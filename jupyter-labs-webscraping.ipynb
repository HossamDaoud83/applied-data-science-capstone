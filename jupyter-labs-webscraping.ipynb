{
 "cells": [
  {
   "cell_type": "markdown",
   "metadata": {},
   "source": [
    "<p style=\"text-align:center\">\n",
    "    <a href=\"https://skills.network\" target=\"_blank\">\n",
    "    <img src=\"https://cf-courses-data.s3.us.cloud-object-storage.appdomain.cloud/assets/logos/SN_web_lightmode.png\" width=\"200\" alt=\"Skills Network Logo\">\n",
    "    </a>\n",
    "</p>\n"
   ]
  },
  {
   "cell_type": "markdown",
   "metadata": {},
   "source": [
    "# **Space X  Falcon 9 First Stage Landing Prediction**\n"
   ]
  },
  {
   "cell_type": "markdown",
   "metadata": {},
   "source": [
    "## Web scraping Falcon 9 and Falcon Heavy Launches Records from Wikipedia\n"
   ]
  },
  {
   "cell_type": "markdown",
   "metadata": {},
   "source": [
    "Estimated time needed: **40** minutes\n"
   ]
  },
  {
   "cell_type": "markdown",
   "metadata": {},
   "source": [
    "In this lab, you will be performing web scraping to collect Falcon 9 historical launch records from a Wikipedia page titled `List of Falcon 9 and Falcon Heavy launches`\n",
    "\n",
    "https://en.wikipedia.org/wiki/List_of_Falcon_9_and_Falcon_Heavy_launches\n"
   ]
  },
  {
   "cell_type": "markdown",
   "metadata": {},
   "source": [
    "![](https://cf-courses-data.s3.us.cloud-object-storage.appdomain.cloud/IBM-DS0321EN-SkillsNetwork/labs/module_1_L2/images/Falcon9_rocket_family.svg)\n"
   ]
  },
  {
   "cell_type": "markdown",
   "metadata": {},
   "source": [
    "Falcon 9 first stage will land successfully\n"
   ]
  },
  {
   "cell_type": "markdown",
   "metadata": {},
   "source": [
    "![](https://cf-courses-data.s3.us.cloud-object-storage.appdomain.cloud/IBMDeveloperSkillsNetwork-DS0701EN-SkillsNetwork/api/Images/landing_1.gif)\n"
   ]
  },
  {
   "cell_type": "markdown",
   "metadata": {},
   "source": [
    "Several examples of an unsuccessful landing are shown here:\n"
   ]
  },
  {
   "cell_type": "markdown",
   "metadata": {},
   "source": [
    "![](https://cf-courses-data.s3.us.cloud-object-storage.appdomain.cloud/IBMDeveloperSkillsNetwork-DS0701EN-SkillsNetwork/api/Images/crash.gif)\n"
   ]
  },
  {
   "cell_type": "markdown",
   "metadata": {},
   "source": [
    "More specifically, the launch records are stored in a HTML table shown below:\n"
   ]
  },
  {
   "cell_type": "markdown",
   "metadata": {},
   "source": [
    "![](https://cf-courses-data.s3.us.cloud-object-storage.appdomain.cloud/IBM-DS0321EN-SkillsNetwork/labs/module_1_L2/images/falcon9-launches-wiki.png)\n"
   ]
  },
  {
   "cell_type": "markdown",
   "metadata": {},
   "source": [
    "  ## Objectives\n",
    "Web scrap Falcon 9 launch records with `BeautifulSoup`: \n",
    "- Extract a Falcon 9 launch records HTML table from Wikipedia\n",
    "- Parse the table and convert it into a Pandas data frame\n"
   ]
  },
  {
   "cell_type": "markdown",
   "metadata": {},
   "source": [
    "First let's import required packages for this lab\n"
   ]
  },
  {
   "cell_type": "code",
   "metadata": {
    "ExecuteTime": {
     "end_time": "2024-06-22T20:59:50.433433Z",
     "start_time": "2024-06-22T20:59:44.982944Z"
    }
   },
   "source": [
    "!pip3 install beautifulsoup4\n!pip3 install requests"
   ],
   "outputs": [
    {
     "name": "stdout",
     "output_type": "stream",
     "text": [
      "Requirement already satisfied: beautifulsoup4 in c:\\users\\hossa\\.conda\\envs\\pandas\\lib\\site-packages (4.12.3)\n",
      "Requirement already satisfied: soupsieve>1.2 in c:\\users\\hossa\\.conda\\envs\\pandas\\lib\\site-packages (from beautifulsoup4) (2.5)\n",
      "Requirement already satisfied: requests in c:\\users\\hossa\\.conda\\envs\\pandas\\lib\\site-packages (2.32.3)\n",
      "Requirement already satisfied: charset-normalizer<4,>=2 in c:\\users\\hossa\\.conda\\envs\\pandas\\lib\\site-packages (from requests) (3.3.2)\n",
      "Requirement already satisfied: idna<4,>=2.5 in c:\\users\\hossa\\.conda\\envs\\pandas\\lib\\site-packages (from requests) (3.7)\n",
      "Requirement already satisfied: urllib3<3,>=1.21.1 in c:\\users\\hossa\\.conda\\envs\\pandas\\lib\\site-packages (from requests) (2.2.2)\n",
      "Requirement already satisfied: certifi>=2017.4.17 in c:\\users\\hossa\\.conda\\envs\\pandas\\lib\\site-packages (from requests) (2024.6.2)\n"
     ]
    }
   ],
   "execution_count": 2
  },
  {
   "cell_type": "code",
   "metadata": {
    "ExecuteTime": {
     "end_time": "2024-06-22T20:59:51.710687Z",
     "start_time": "2024-06-22T20:59:50.435428Z"
    }
   },
   "source": [
    "import sys\n\nimport requests\nfrom bs4 import BeautifulSoup\nimport re\nimport unicodedata\nimport pandas as pd"
   ],
   "outputs": [],
   "execution_count": 3
  },
  {
   "cell_type": "markdown",
   "metadata": {},
   "source": [
    "and we will provide some helper functions for you to process web scraped HTML table\n"
   ]
  },
  {
   "cell_type": "code",
   "metadata": {
    "ExecuteTime": {
     "end_time": "2024-06-22T20:59:51.726162Z",
     "start_time": "2024-06-22T20:59:51.711684Z"
    }
   },
   "source": [
    "def date_time(table_cells):\n    \"\"\"\n    This function returns the data and time from the HTML  table cell\n    Input: the  element of a table data cell extracts extra row\n    \"\"\"\n    return [data_time.strip() for data_time in list(table_cells.strings)][0:2]\n\ndef booster_version(table_cells):\n    \"\"\"\n    This function returns the booster version from the HTML  table cell \n    Input: the  element of a table data cell extracts extra row\n    \"\"\"\n    out=''.join([booster_version for i,booster_version in enumerate( table_cells.strings) if i%2==0][0:-1])\n    return out\n\ndef landing_status(table_cells):\n    \"\"\"\n    This function returns the landing status from the HTML table cell \n    Input: the  element of a table data cell extracts extra row\n    \"\"\"\n    out=[i for i in table_cells.strings][0]\n    return out\n\n\ndef get_mass(table_cells):\n    mass=unicodedata.normalize(\"NFKD\", table_cells.text).strip()\n    if mass:\n        mass.find(\"kg\")\n        new_mass=mass[0:mass.find(\"kg\")+2]\n    else:\n        new_mass=0\n    return new_mass\n\n\ndef extract_column_from_header(row):\n    \"\"\"\n    This function returns the landing status from the HTML table cell \n    Input: the  element of a table data cell extracts extra row\n    \"\"\"\n    if (row.br):\n        row.br.extract()\n    if row.a:\n        row.a.extract()\n    if row.sup:\n        row.sup.extract()\n        \n    colunm_name = ' '.join(row.contents)\n    \n    # Filter the digit and empty names\n    if not(colunm_name.strip().isdigit()):\n        colunm_name = colunm_name.strip()\n        return colunm_name    \n"
   ],
   "outputs": [],
   "execution_count": 4
  },
  {
   "cell_type": "markdown",
   "metadata": {},
   "source": [
    "To keep the lab tasks consistent, you will be asked to scrape the data from a snapshot of the  `List of Falcon 9 and Falcon Heavy launches` Wikipage updated on\n",
    "`9th June 2021`\n"
   ]
  },
  {
   "cell_type": "code",
   "metadata": {
    "ExecuteTime": {
     "end_time": "2024-06-22T20:59:51.742152Z",
     "start_time": "2024-06-22T20:59:51.730152Z"
    }
   },
   "source": [
    "static_url = \"https://en.wikipedia.org/w/index.php?title=List_of_Falcon_9_and_Falcon_Heavy_launches&oldid=1027686922\""
   ],
   "outputs": [],
   "execution_count": 5
  },
  {
   "cell_type": "markdown",
   "metadata": {},
   "source": [
    "Next, request the HTML page from the above URL and get a `response` object\n"
   ]
  },
  {
   "cell_type": "markdown",
   "metadata": {},
   "source": [
    "### TASK 1: Request the Falcon9 Launch Wiki page from its URL\n"
   ]
  },
  {
   "cell_type": "markdown",
   "metadata": {},
   "source": [
    "First, let's perform an HTTP GET method to request the Falcon9 Launch HTML page, as an HTTP response.\n"
   ]
  },
  {
   "cell_type": "code",
   "metadata": {
    "ExecuteTime": {
     "end_time": "2024-06-22T20:59:52.100821Z",
     "start_time": "2024-06-22T20:59:51.744144Z"
    }
   },
   "source": [
    "# use requests.get() method with the provided static_url\n",
    "# assign the response to a object\n",
    "import requests\n",
    "\n",
    "# URL of the Falcon 9 and Falcon Heavy Launches Wikipedia page\n",
    "url = \"https://en.wikipedia.org/wiki/List_of_Falcon_9_and_Falcon_Heavy_launches\"\n",
    "\n",
    "# Perform HTTP GET request to fetch the HTML content\n",
    "response = requests.get(url)\n",
    "\n",
    "# Check if the request was successful\n",
    "if response.status_code == 200:\n",
    "    html_content = response.content\n",
    "    print(\"HTML content fetched successfully\")\n",
    "else:\n",
    "    print(f\"Failed to fetch the page. Status code: {response.status_code}\")\n",
    "\n",
    "# Optional: Displaying a snippet of the HTML content\n",
    "print(html_content[:1000])\n"
   ],
   "outputs": [
    {
     "name": "stdout",
     "output_type": "stream",
     "text": [
      "HTML content fetched successfully\n",
      "b'<!DOCTYPE html>\\n<html class=\"client-nojs vector-feature-language-in-header-enabled vector-feature-language-in-main-page-header-disabled vector-feature-sticky-header-disabled vector-feature-page-tools-pinned-disabled vector-feature-toc-pinned-clientpref-1 vector-feature-main-menu-pinned-disabled vector-feature-limited-width-clientpref-1 vector-feature-limited-width-content-enabled vector-feature-custom-font-size-clientpref-1 vector-feature-appearance-enabled vector-feature-appearance-pinned-clientpref-1 vector-feature-night-mode-disabled skin-theme-clientpref-day vector-toc-available\" lang=\"en\" dir=\"ltr\">\\n<head>\\n<meta charset=\"UTF-8\">\\n<title>List of Falcon 9 and Falcon Heavy launches - Wikipedia</title>\\n<script>(function(){var className=\"client-js vector-feature-language-in-header-enabled vector-feature-language-in-main-page-header-disabled vector-feature-sticky-header-disabled vector-feature-page-tools-pinned-disabled vector-feature-toc-pinned-clientpref-1 vector-feature-main-menu-pinn'\n"
     ]
    }
   ],
   "execution_count": 6
  },
  {
   "cell_type": "markdown",
   "metadata": {},
   "source": [
    "Create a `BeautifulSoup` object from the HTML `response`\n"
   ]
  },
  {
   "cell_type": "code",
   "metadata": {
    "ExecuteTime": {
     "end_time": "2024-06-22T20:59:53.123477Z",
     "start_time": "2024-06-22T20:59:52.101787Z"
    }
   },
   "source": [
    "# Use BeautifulSoup() to create a BeautifulSoup object from a response text content\n",
    "from bs4 import BeautifulSoup\n",
    "\n",
    "# Assuming html_content contains the HTML response from the previous step\n",
    "# Create a BeautifulSoup object\n",
    "soup = BeautifulSoup(html_content, 'html.parser')\n",
    "\n",
    "# Optional: Print the title of the page to verify the BeautifulSoup object\n",
    "print(soup.title.string)\n"
   ],
   "outputs": [
    {
     "name": "stdout",
     "output_type": "stream",
     "text": [
      "List of Falcon 9 and Falcon Heavy launches - Wikipedia\n"
     ]
    }
   ],
   "execution_count": 7
  },
  {
   "cell_type": "markdown",
   "metadata": {},
   "source": [
    "from bs4 import BeautifulSoup\n",
    "\n",
    "# Assuming html_content contains the HTML response from the previous step\n",
    "# Create a BeautifulSoup object\n",
    "soup = BeautifulSoup(html_content, 'html.parser')\n",
    "\n",
    "# Optional: Print the title of the page to verify the BeautifulSoup object\n",
    "print(soup.title.string)\n",
    "Print the page title to verify if the `BeautifulSoup` object was created properly \n"
   ]
  },
  {
   "cell_type": "code",
   "metadata": {
    "ExecuteTime": {
     "end_time": "2024-06-22T20:59:54.458702Z",
     "start_time": "2024-06-22T20:59:53.124508Z"
    }
   },
   "source": [
    "# Use soup.title attribute\n",
    "import requests\n",
    "from bs4 import BeautifulSoup\n",
    "\n",
    "# URL of the Falcon 9 and Falcon Heavy Launches Wikipedia page\n",
    "url = \"https://en.wikipedia.org/wiki/List_of_Falcon_9_and_Falcon_Heavy_launches\"\n",
    "\n",
    "# Perform HTTP GET request to fetch the HTML content\n",
    "response = requests.get(url)\n",
    "\n",
    "# Check if the request was successful\n",
    "if response.status_code == 200:\n",
    "    html_content = response.content\n",
    "    print(\"HTML content fetched successfully\")\n",
    "else:\n",
    "    print(f\"Failed to fetch the page. Status code: {response.status_code}\")\n",
    "\n",
    "# Create a BeautifulSoup object from the HTML content\n",
    "soup = BeautifulSoup(html_content, 'html.parser')\n",
    "\n",
    "# Print the title of the page to verify the BeautifulSoup object\n",
    "print(\"Page Title:\", soup.title.string)\n"
   ],
   "outputs": [
    {
     "name": "stdout",
     "output_type": "stream",
     "text": [
      "HTML content fetched successfully\n",
      "Page Title: List of Falcon 9 and Falcon Heavy launches - Wikipedia\n"
     ]
    }
   ],
   "execution_count": 8
  },
  {
   "cell_type": "markdown",
   "metadata": {},
   "source": [
    "### TASK 2: Extract all column/variable names from the HTML table header\n"
   ]
  },
  {
   "cell_type": "markdown",
   "metadata": {},
   "source": [
    "Next, we want to collect all relevant column names from the HTML table header\n"
   ]
  },
  {
   "cell_type": "markdown",
   "metadata": {},
   "source": [
    "Let's try to find all tables on the wiki page first. If you need to refresh your memory about `BeautifulSoup`, please check the external reference link towards the end of this lab\n"
   ]
  },
  {
   "cell_type": "code",
   "metadata": {
    "ExecuteTime": {
     "end_time": "2024-06-22T20:59:55.886072Z",
     "start_time": "2024-06-22T20:59:54.460704Z"
    }
   },
   "source": [
    "# Use the find_all function in the BeautifulSoup object, with element type `table`\n",
    "# Assign the result to a list called `html_tables`\n",
    "import requests\n",
    "from bs4 import BeautifulSoup\n",
    "\n",
    "# URL of the Falcon 9 and Falcon Heavy Launches Wikipedia page\n",
    "url = \"https://en.wikipedia.org/wiki/List_of_Falcon_9_and_Falcon_Heavy_launches\"\n",
    "\n",
    "# Perform HTTP GET request to fetch the HTML content\n",
    "response = requests.get(url)\n",
    "\n",
    "# Check if the request was successful\n",
    "if response.status_code == 200:\n",
    "    html_content = response.content\n",
    "    print(\"HTML content fetched successfully\")\n",
    "else:\n",
    "    print(f\"Failed to fetch the page. Status code: {response.status_code}\")\n",
    "\n",
    "# Create a BeautifulSoup object from the HTML content\n",
    "soup = BeautifulSoup(html_content, 'html.parser')\n",
    "\n",
    "# Locate the first table in the HTML content\n",
    "table = soup.find_all('table')[0]\n",
    "\n",
    "# Extract column names from the table header\n",
    "headers = [header.text.strip() for header in table.find_all('th')]\n",
    "\n",
    "# Print the column names\n",
    "print(\"Column Names:\", headers)\n"
   ],
   "outputs": [
    {
     "name": "stdout",
     "output_type": "stream",
     "text": [
      "HTML content fetched successfully\n",
      "Column Names: ['Flight No.', 'Date andtime (UTC)', 'Version,booster[c]', 'Launchsite', 'Payload[d]', 'Payload mass', 'Orbit', 'Customer', 'Launchoutcome', 'Boosterlanding', '195', '196', 'FH 5', '197', '198', '199', '200', '201', '202', '203', '204', '205', '206', '207', '208', '209', '210', '211', '212', '213', '214', '215', '216', '217', '218', '219', '220', 'FH 6', '221', '222', '223', '224', '225', '226', '227', '228', '229', '230', '231', '232', '233', '234', '235', '236', '237', '238', '239', '240', '241', '242', 'FH 7', '243', '244', '245', '246', '247', '248', '249', '250', '251', '252', '253', '254', '255', '256', '257', '258', '259', '260', '261', '262', 'FH 8', '263', '264', '265', '266', '267', '268', '269', '270', '271', '272', '273', '274', '275', '276', '277', '278', '279', '280', '281', '282', '283', '284', 'FH 9', '285']\n"
     ]
    }
   ],
   "execution_count": 9
  },
  {
   "cell_type": "markdown",
   "metadata": {},
   "source": [
    "Starting from the third table is our target table contains the actual launch records.\n"
   ]
  },
  {
   "cell_type": "code",
   "metadata": {
    "ExecuteTime": {
     "end_time": "2024-06-22T20:59:57.402846Z",
     "start_time": "2024-06-22T20:59:55.887899Z"
    }
   },
   "source": [
    "# Let's print the third table and check its content\n",
    "# first_launch_table = html_tables[2]\n",
    "# print(first_launch_table)\n",
    "import requests\n",
    "from bs4 import BeautifulSoup\n",
    "\n",
    "# URL of the Falcon 9 and Falcon Heavy Launches Wikipedia page\n",
    "url = \"https://en.wikipedia.org/wiki/List_of_Falcon_9_and_Falcon_Heavy_launches\"\n",
    "\n",
    "# Perform HTTP GET request to fetch the HTML content\n",
    "response = requests.get(url)\n",
    "\n",
    "# Check if the request was successful\n",
    "if response.status_code == 200:\n",
    "    html_content = response.content\n",
    "    print(\"HTML content fetched successfully\")\n",
    "else:\n",
    "    print(f\"Failed to fetch the page. Status code: {response.status_code}\")\n",
    "\n",
    "# Create a BeautifulSoup object from the HTML content\n",
    "soup = BeautifulSoup(html_content, 'html.parser')\n",
    "\n",
    "# Locate all tables in the HTML content\n",
    "html_tables = soup.find_all('table')\n",
    "\n",
    "# Ensure there are at least three tables in the HTML content\n",
    "if len(html_tables) >= 3:\n",
    "    # Select the third table (index 2)\n",
    "    first_launch_table = html_tables[2]\n",
    "\n",
    "    # Print the content of the third table\n",
    "    print(first_launch_table)\n",
    "else:\n",
    "    print(\"There are fewer than three tables on the page.\")\n"
   ],
   "outputs": [
    {
     "name": "stdout",
     "output_type": "stream",
     "text": [
      "HTML content fetched successfully\n",
      "<table class=\"wikitable\" style=\"width:100%; font-size:1.00em; line-height:1.5em;\">\n",
      "<tbody><tr class=\"is-sticky\">\n",
      "<th scope=\"col\" style=\"width: 10%;\">Date and time (<a href=\"/wiki/Coordinated_Universal_Time\" title=\"Coordinated Universal Time\">UTC</a>)\n",
      "</th>\n",
      "<th scope=\"col\"><a href=\"/wiki/List_of_Falcon_9_first-stage_boosters\" title=\"List of Falcon 9 first-stage boosters\">Version,<br/>booster</a><sup class=\"reference\" id=\"cite_ref-booster_27-2\"><a href=\"#cite_note-booster-27\">[c]</a></sup>\n",
      "</th>\n",
      "<th scope=\"col\">Launch site\n",
      "</th>\n",
      "<th scope=\"col\">Payload<sup class=\"reference\" id=\"cite_ref-Dragon_28-2\"><a href=\"#cite_note-Dragon-28\">[d]</a></sup>\n",
      "</th>\n",
      "<th scope=\"col\">Orbit\n",
      "</th>\n",
      "<th scope=\"col\">Customer\n",
      "</th></tr>\n",
      "<tr>\n",
      "<td rowspan=\"2\">23 June 2024<br/>17:15<sup class=\"reference\" id=\"cite_ref-nextSFupcoming_369-1\"><a href=\"#cite_note-nextSFupcoming-369\">[361]</a></sup>\n",
      "</td>\n",
      "<td><a href=\"/wiki/Falcon_9_Block_5\" title=\"Falcon 9 Block 5\">F9 B5</a> ♺<br/><a href=\"/wiki/List_of_Falcon_9_first-stage_boosters#B1078\" title=\"List of Falcon 9 first-stage boosters\">B1078.11</a>\n",
      "</td>\n",
      "<td><a href=\"/wiki/Cape_Canaveral_Space_Force_Station\" title=\"Cape Canaveral Space Force Station\">CCSFS</a>,<br/><a href=\"/wiki/Cape_Canaveral_Space_Launch_Complex_40\" title=\"Cape Canaveral Space Launch Complex 40\">SLC-40</a>\n",
      "</td>\n",
      "<td><a href=\"/wiki/Starlink\" title=\"Starlink\">Starlink Group 10–2</a> (22 satellites)\n",
      "</td>\n",
      "<td><a href=\"/wiki/Low_Earth_orbit\" title=\"Low Earth orbit\">LEO</a>\n",
      "</td>\n",
      "<td><a href=\"/wiki/SpaceX\" title=\"SpaceX\">SpaceX</a>\n",
      "</td></tr>\n",
      "<tr>\n",
      "<td colspan=\"5\">An East Coast v2 mini Starlink launch to their Generation 2 network. On June 14 a launch attempt was made but the vehicle suffered a launch abort seconds after engine ignition, a rare event. Due to launch abort, SpaceX replaced the problematic stage B1073 and replaced it with B1078.<sup class=\"reference\" id=\"cite_ref-370\"><a href=\"#cite_note-370\">[362]</a></sup>\n",
      "</td></tr>\n",
      "<tr>\n",
      "<td rowspan=\"2\">24 June 2024<br/>03:45<sup class=\"reference\" id=\"cite_ref-nextSFupcoming_369-2\"><a href=\"#cite_note-nextSFupcoming-369\">[361]</a></sup>\n",
      "</td>\n",
      "<td><a href=\"/wiki/Falcon_9_Block_5\" title=\"Falcon 9 Block 5\">F9 B5</a> ♺<br/><a href=\"/wiki/List_of_Falcon_9_first-stage_boosters#B1075\" title=\"List of Falcon 9 first-stage boosters\">B1075.11</a>\n",
      "</td>\n",
      "<td><a href=\"/wiki/Vandenberg_Space_Force_Base\" title=\"Vandenberg Space Force Base\">VSFB</a>,<br/><a href=\"/wiki/Vandenberg_Space_Launch_Complex_4\" title=\"Vandenberg Space Launch Complex 4\">SLC-4E</a>\n",
      "</td>\n",
      "<td><a href=\"/wiki/Starlink\" title=\"Starlink\">Starlink Group 9–2</a> (20 satellites)\n",
      "</td>\n",
      "<td><a href=\"/wiki/Low_Earth_orbit\" title=\"Low Earth orbit\">LEO</a>\n",
      "</td>\n",
      "<td><a href=\"/wiki/SpaceX\" title=\"SpaceX\">SpaceX</a>\n",
      "</td></tr>\n",
      "<tr>\n",
      "<td colspan=\"5\">A West Coast v2 mini Starlink launch to their Generation 2 network. Including 13 satellites with direct-to-cell connectivity.\n",
      "</td></tr>\n",
      "<tr>\n",
      "<td rowspan=\"4\">25 June 2024<br/>21:16<sup class=\"reference\" id=\"cite_ref-371\"><a href=\"#cite_note-371\">[363]</a></sup>\n",
      "</td>\n",
      "<td><a href=\"/wiki/Falcon_Heavy\" title=\"Falcon Heavy\">Falcon Heavy B5</a><br/><a href=\"/wiki/List_of_Falcon_9_first-stage_boosters#B1087\" title=\"List of Falcon 9 first-stage boosters\">B1087 (core)</a>\n",
      "</td>\n",
      "<td rowspan=\"3\"><a href=\"/wiki/Kennedy_Space_Center\" title=\"Kennedy Space Center\">KSC</a>,<br/><a href=\"/wiki/Kennedy_Space_Center_Launch_Complex_39A\" title=\"Kennedy Space Center Launch Complex 39A\">LC-39A</a>\n",
      "</td>\n",
      "<td rowspan=\"3\"><a href=\"/wiki/GOES-U\" title=\"GOES-U\">GOES-U</a><sup class=\"reference\" id=\"cite_ref-372\"><a href=\"#cite_note-372\">[364]</a></sup>\n",
      "</td>\n",
      "<td rowspan=\"3\"><a href=\"/wiki/Geostationary_orbit\" title=\"Geostationary orbit\">GEO</a>\n",
      "</td>\n",
      "<td rowspan=\"3\"><a class=\"mw-redirect\" href=\"/wiki/NOAA\" title=\"NOAA\">NOAA</a>\n",
      "</td></tr>\n",
      "<tr>\n",
      "<td><a href=\"/wiki/List_of_Falcon_9_first-stage_boosters#B1072\" title=\"List of Falcon 9 first-stage boosters\">B1072.1 (side)</a>\n",
      "</td></tr>\n",
      "<tr>\n",
      "<td><a href=\"/wiki/List_of_Falcon_9_first-stage_boosters#B1086\" title=\"List of Falcon 9 first-stage boosters\">B1086.1 (side)</a>\n",
      "</td></tr>\n",
      "<tr>\n",
      "<td colspan=\"5\">In September 2021, NASA awarded SpaceX a $152.5 million contract to provide launch services for the <a href=\"/wiki/GOES-U\" title=\"GOES-U\">GOES-U</a> weather satellite.\n",
      "</td></tr>\n",
      "<tr>\n",
      "<td rowspan=\"2\">27 June 2024<br/>10:55<sup class=\"reference\" id=\"cite_ref-nextSFupcoming_369-3\"><a href=\"#cite_note-nextSFupcoming-369\">[361]</a></sup>\n",
      "</td>\n",
      "<td><a href=\"/wiki/Falcon_9_Block_5\" title=\"Falcon 9 Block 5\">F9 B5</a> ♺\n",
      "</td>\n",
      "<td><a href=\"/wiki/Cape_Canaveral_Space_Force_Station\" title=\"Cape Canaveral Space Force Station\">CCSFS</a>,<br/><a href=\"/wiki/Cape_Canaveral_Space_Launch_Complex_40\" title=\"Cape Canaveral Space Launch Complex 40\">SLC-40</a>\n",
      "</td>\n",
      "<td><a href=\"/wiki/Starlink\" title=\"Starlink\">Starlink Group 10–3</a> (~22 satellites)\n",
      "</td>\n",
      "<td><a href=\"/wiki/Low_Earth_orbit\" title=\"Low Earth orbit\">LEO</a>\n",
      "</td>\n",
      "<td><a href=\"/wiki/SpaceX\" title=\"SpaceX\">SpaceX</a>\n",
      "</td></tr>\n",
      "<tr>\n",
      "<td colspan=\"5\">An East Coast v2 mini Starlink launch to their Generation 2 network.\n",
      "</td></tr>\n",
      "<tr>\n",
      "<td rowspan=\"2\">30 June 2024<br/>07:11<sup class=\"reference\" id=\"cite_ref-nextSFupcoming_369-4\"><a href=\"#cite_note-nextSFupcoming-369\">[361]</a></sup>\n",
      "</td>\n",
      "<td><a href=\"/wiki/Falcon_9_Block_5\" title=\"Falcon 9 Block 5\">F9 B5</a> ♺\n",
      "</td>\n",
      "<td><a href=\"/wiki/Cape_Canaveral_Space_Force_Station\" title=\"Cape Canaveral Space Force Station\">CCSFS</a>,<br/><a href=\"/wiki/Cape_Canaveral_Space_Launch_Complex_40\" title=\"Cape Canaveral Space Launch Complex 40\">SLC-40</a>\n",
      "</td>\n",
      "<td><a href=\"/wiki/Starlink\" title=\"Starlink\">Starlink Group 8–9</a> (~20 satellites)\n",
      "</td>\n",
      "<td><a href=\"/wiki/Low_Earth_orbit\" title=\"Low Earth orbit\">LEO</a>\n",
      "</td>\n",
      "<td><a href=\"/wiki/SpaceX\" title=\"SpaceX\">SpaceX</a>\n",
      "</td></tr>\n",
      "<tr>\n",
      "<td colspan=\"5\">An East Coast v2 mini Starlink launch to their Generation 2 network.\n",
      "</td></tr>\n",
      "<tr>\n",
      "<td rowspan=\"2\">June 2024<br/><sup class=\"reference\" id=\"cite_ref-nextSFupcoming_369-5\"><a href=\"#cite_note-nextSFupcoming-369\">[361]</a></sup>\n",
      "</td>\n",
      "<td><a href=\"/wiki/Falcon_9_Block_5\" title=\"Falcon 9 Block 5\">F9 B5</a>\n",
      "</td>\n",
      "<td><a href=\"/wiki/Vandenberg_Space_Force_Base\" title=\"Vandenberg Space Force Base\">VSFB</a>,<br/><a href=\"/wiki/Vandenberg_Space_Launch_Complex_4\" title=\"Vandenberg Space Launch Complex 4\">SLC-4E</a>\n",
      "</td>\n",
      "<td><a href=\"/wiki/Starlink\" title=\"Starlink\">Starlink Group 7–19</a> (~23 satellites)\n",
      "</td>\n",
      "<td><a href=\"/wiki/Low_Earth_orbit\" title=\"Low Earth orbit\">LEO</a>\n",
      "</td>\n",
      "<td><a href=\"/wiki/SpaceX\" title=\"SpaceX\">SpaceX</a>\n",
      "</td></tr>\n",
      "<tr>\n",
      "<td colspan=\"5\">A West Coast v2 mini Starlink launch to their Generation 2 network.\n",
      "</td></tr>\n",
      "<tr>\n",
      "<td rowspan=\"2\">June 2024<br/><sup class=\"reference\" id=\"cite_ref-nextSFupcoming_369-6\"><a href=\"#cite_note-nextSFupcoming-369\">[361]</a></sup>\n",
      "</td>\n",
      "<td><a href=\"/wiki/Falcon_9_Block_5\" title=\"Falcon 9 Block 5\">F9 B5</a>\n",
      "</td>\n",
      "<td><a href=\"/wiki/Vandenberg_Space_Force_Base\" title=\"Vandenberg Space Force Base\">VSFB</a>,<br/><a href=\"/wiki/Vandenberg_Space_Launch_Complex_4\" title=\"Vandenberg Space Launch Complex 4\">SLC-4E</a>\n",
      "</td>\n",
      "<td><a href=\"/wiki/Starlink\" title=\"Starlink\">Starlink Group 8-3</a> (~23 satellites)\n",
      "</td>\n",
      "<td><a href=\"/wiki/Low_Earth_orbit\" title=\"Low Earth orbit\">LEO</a>\n",
      "</td>\n",
      "<td><a href=\"/wiki/SpaceX\" title=\"SpaceX\">SpaceX</a>\n",
      "</td></tr>\n",
      "<tr>\n",
      "<td colspan=\"5\">A West Coast v2 mini Starlink launch to their Generation 2 network.\n",
      "</td></tr>\n",
      "<tr>\n",
      "<td rowspan=\"2\">June 2024<br/><sup class=\"reference\" id=\"cite_ref-nextSFupcoming_369-7\"><a href=\"#cite_note-nextSFupcoming-369\">[361]</a></sup>\n",
      "</td>\n",
      "<td><a href=\"/wiki/Falcon_9_Block_5\" title=\"Falcon 9 Block 5\">F9 B5</a>\n",
      "</td>\n",
      "<td><a href=\"/wiki/Vandenberg_Space_Force_Base\" title=\"Vandenberg Space Force Base\">VSFB</a>,<br/><a href=\"/wiki/Vandenberg_Space_Launch_Complex_4\" title=\"Vandenberg Space Launch Complex 4\">SLC-4E</a>\n",
      "</td>\n",
      "<td><a href=\"/wiki/Starlink\" title=\"Starlink\">Starlink Group 7–20</a> (~23 satellites)\n",
      "</td>\n",
      "<td><a href=\"/wiki/Low_Earth_orbit\" title=\"Low Earth orbit\">LEO</a>\n",
      "</td>\n",
      "<td><a href=\"/wiki/SpaceX\" title=\"SpaceX\">SpaceX</a>\n",
      "</td></tr>\n",
      "<tr>\n",
      "<td colspan=\"5\">A West Coast v2 mini Starlink launch to their Generation 2 network.\n",
      "</td></tr>\n",
      "<tr>\n",
      "<td rowspan=\"2\">June 2024<sup class=\"reference\" id=\"cite_ref-373\"><a href=\"#cite_note-373\">[365]</a></sup>\n",
      "</td>\n",
      "<td><a href=\"/wiki/Falcon_9_Block_5\" title=\"Falcon 9 Block 5\">F9 B5</a>\n",
      "</td>\n",
      "<td><a href=\"/wiki/Cape_Canaveral\" title=\"Cape Canaveral\">CC</a>,<br/><a href=\"/wiki/Cape_Canaveral_Space_Launch_Complex_40\" title=\"Cape Canaveral Space Launch Complex 40\">SLC-40</a>/<a href=\"/wiki/Kennedy_Space_Center_Launch_Complex_39A\" title=\"Kennedy Space Center Launch Complex 39A\">LC-39A</a>\n",
      "</td>\n",
      "<td><a href=\"/wiki/PT_Pasifik_Satelit_Nusantara#Nusantara_Lima\" title=\"PT Pasifik Satelit Nusantara\">Nusantara Lima</a><sup class=\"reference\" id=\"cite_ref-374\"><a href=\"#cite_note-374\">[366]</a></sup>\n",
      "</td>\n",
      "<td><a href=\"/wiki/Geostationary_transfer_orbit\" title=\"Geostationary transfer orbit\">GTO</a>?\n",
      "</td>\n",
      "<td><a href=\"/wiki/PT_Pasifik_Satelit_Nusantara\" title=\"PT Pasifik Satelit Nusantara\">PT Pasifik Satelit Nusantara</a>\n",
      "</td></tr>\n",
      "<tr>\n",
      "<td colspan=\"5\">A hot backup system for <a href=\"/wiki/PT_Pasifik_Satelit_Nusantara#SATRIA-1\" title=\"PT Pasifik Satelit Nusantara\">SATRIA-1</a>.<sup class=\"reference\" id=\"cite_ref-375\"><a href=\"#cite_note-375\">[367]</a></sup>\n",
      "</td></tr>\n",
      "<tr>\n",
      "<td rowspan=\"2\">Q2 2024<sup class=\"reference\" id=\"cite_ref-sn-20240102_376-0\"><a href=\"#cite_note-sn-20240102-376\">[368]</a></sup>\n",
      "</td>\n",
      "<td><a href=\"/wiki/Falcon_9_Block_5\" title=\"Falcon 9 Block 5\">F9 B5</a>\n",
      "</td>\n",
      "<td><a href=\"/wiki/Cape_Canaveral\" title=\"Cape Canaveral\">CC</a>,<br/><a href=\"/wiki/Cape_Canaveral_Space_Launch_Complex_40\" title=\"Cape Canaveral Space Launch Complex 40\">SLC-40</a>/<a href=\"/wiki/Kennedy_Space_Center_Launch_Complex_39A\" title=\"Kennedy Space Center Launch Complex 39A\">LC-39A</a>\n",
      "</td>\n",
      "<td><a href=\"/wiki/GSAT-20\" title=\"GSAT-20\">GSAT-20</a><sup class=\"reference\" id=\"cite_ref-NSIL_377-0\"><a href=\"#cite_note-NSIL-377\">[369]</a></sup> (CMS-03)\n",
      "</td>\n",
      "<td><a href=\"/wiki/Geostationary_transfer_orbit\" title=\"Geostationary transfer orbit\">GTO</a>\n",
      "</td>\n",
      "<td><a class=\"mw-redirect\" href=\"/wiki/New_Space_India_Limited\" title=\"New Space India Limited\">New Space India Limited</a><sup class=\"reference\" id=\"cite_ref-NSIL_377-1\"><a href=\"#cite_note-NSIL-377\">[369]</a></sup><br/><a href=\"/wiki/Dish_TV\" title=\"Dish TV\">Dish TV</a><sup class=\"reference\" id=\"cite_ref-378\"><a href=\"#cite_note-378\">[370]</a></sup>\n",
      "</td></tr>\n",
      "<tr>\n",
      "<td colspan=\"5\">Indian telecommunications satellite for <a href=\"/wiki/Dish_TV\" title=\"Dish TV\">Dish TV</a>. Originally planned to launch on <a href=\"/wiki/ISRO\" title=\"ISRO\">ISRO</a>'s <a href=\"/wiki/LVM3\" title=\"LVM3\">LVM3</a>,<sup class=\"reference\" id=\"cite_ref-annualreport2018_379-0\"><a href=\"#cite_note-annualreport2018-379\">[371]</a></sup> but later shifted to <a href=\"/wiki/Falcon_9\" title=\"Falcon 9\">Falcon 9</a> due to mass and scheduling issues.<sup class=\"reference\" id=\"cite_ref-sn-20240102_376-1\"><a href=\"#cite_note-sn-20240102-376\">[368]</a></sup> It will be the first ISRO-made satellite to move from <a href=\"/wiki/Geostationary_transfer_orbit\" title=\"Geostationary transfer orbit\">geostationary transfer orbit</a> to <a href=\"/wiki/Geostationary_orbit\" title=\"Geostationary orbit\">geostationary orbit</a> using electric propulsion.<sup class=\"reference\" id=\"cite_ref-thewire_380-0\"><a href=\"#cite_note-thewire-380\">[372]</a></sup>\n",
      "</td></tr>\n",
      "<tr>\n",
      "<td rowspan=\"2\">Q2 2024<sup class=\"reference\" id=\"cite_ref-nextSFupcoming_369-8\"><a href=\"#cite_note-nextSFupcoming-369\">[361]</a></sup><sup class=\"reference\" id=\"cite_ref-SFPR9321_381-0\"><a href=\"#cite_note-SFPR9321-381\">[373]</a></sup>\n",
      "</td>\n",
      "<td><a href=\"/wiki/Falcon_9_Block_5\" title=\"Falcon 9 Block 5\">F9 B5</a><sup class=\"reference\" id=\"cite_ref-ussf36config_382-0\"><a href=\"#cite_note-ussf36config-382\">[374]</a></sup>\n",
      "</td>\n",
      "<td><a href=\"/wiki/Cape_Canaveral\" title=\"Cape Canaveral\">CC</a>,<br/><a href=\"/wiki/Cape_Canaveral_Space_Launch_Complex_40\" title=\"Cape Canaveral Space Launch Complex 40\">SLC-40</a>/<a href=\"/wiki/Kennedy_Space_Center_Launch_Complex_39A\" title=\"Kennedy Space Center Launch Complex 39A\">LC-39A</a>\n",
      "</td>\n",
      "<td>NROL-69\n",
      "</td>\n",
      "<td class=\"skin-invert no table-no2\" data-sort-value=\"\" style=\"background: #DDF; color:black; vertical-align: middle; text-align: center;\"><abbr title=\"To be announced\">TBA</abbr>\n",
      "</td>\n",
      "<td><a href=\"/wiki/United_States_Space_Force\" title=\"United States Space Force\">USSF</a>\n",
      "</td></tr>\n",
      "<tr>\n",
      "<td colspan=\"5\">Launch part of Phase 2 US Space Force contract awarded in 2021.<sup class=\"reference\" id=\"cite_ref-defense.gov_383-0\"><a href=\"#cite_note-defense.gov-383\">[375]</a></sup>\n",
      "</td></tr>\n",
      "<tr>\n",
      "<td rowspan=\"2\">Q2 2024<sup class=\"reference\" id=\"cite_ref-384\"><a href=\"#cite_note-384\">[376]</a></sup><sup class=\"reference\" id=\"cite_ref-385\"><a href=\"#cite_note-385\">[377]</a></sup>\n",
      "</td>\n",
      "<td><a href=\"/wiki/Falcon_9_Block_5\" title=\"Falcon 9 Block 5\">F9 B5</a>\n",
      "</td>\n",
      "<td><a href=\"/wiki/Cape_Canaveral\" title=\"Cape Canaveral\">CC</a>,<br/><a href=\"/wiki/Cape_Canaveral_Space_Launch_Complex_40\" title=\"Cape Canaveral Space Launch Complex 40\">SLC-40</a>/<a href=\"/wiki/Kennedy_Space_Center_Launch_Complex_39A\" title=\"Kennedy Space Center Launch Complex 39A\">LC-39A</a>\n",
      "</td>\n",
      "<td><a href=\"/wiki/Astranis\" title=\"Astranis\">MicroGEO</a> (4 satellites)<sup class=\"reference\" id=\"cite_ref-astranis-microgeo-f9_386-0\"><a href=\"#cite_note-astranis-microgeo-f9-386\">[378]</a></sup>\n",
      "</td>\n",
      "<td><a href=\"/wiki/Geostationary_orbit\" title=\"Geostationary orbit\">GEO</a>\n",
      "</td>\n",
      "<td><a href=\"/wiki/Astranis\" title=\"Astranis\">Astranis</a>\n",
      "</td></tr>\n",
      "<tr>\n",
      "<td colspan=\"5\">Dedicated Falcon 9 launch to put four Astranis MicroGEO communications satellites into service in 2023.<sup class=\"reference\" id=\"cite_ref-astranis-microgeo-f9_386-1\"><a href=\"#cite_note-astranis-microgeo-f9-386\">[378]</a></sup> The MicroGEOs will be launched to a custom geostationary orbit, with the four satellites individually conducting on-orbit maneuvers to inject themselves into their orbital slots. However, it is unclear whether this will be a direct to <a href=\"/wiki/Geostationary_orbit\" title=\"Geostationary orbit\">geostationary orbit</a> insertion, or an optimized <a href=\"/wiki/Geostationary_transfer_orbit\" title=\"Geostationary transfer orbit\">geostationary transfer orbit</a>. The four spacecraft will be mounted to a standard adapter ring, known as an <a href=\"/wiki/EELV_Secondary_Payload_Adapter\" title=\"EELV Secondary Payload Adapter\">ESPA-Grande</a>, for ease of deployment.\n",
      "</td></tr>\n",
      "<tr>\n",
      "<td rowspan=\"2\">8 July 2024<sup class=\"reference\" id=\"cite_ref-387\"><a href=\"#cite_note-387\">[379]</a></sup>\n",
      "</td>\n",
      "<td><a href=\"/wiki/Falcon_9_Block_5\" title=\"Falcon 9 Block 5\">F9 B5</a>\n",
      "</td>\n",
      "<td><a href=\"/wiki/Cape_Canaveral\" title=\"Cape Canaveral\">CCSFS</a>,<br/><a href=\"/wiki/Cape_Canaveral_Space_Launch_Complex_40\" title=\"Cape Canaveral Space Launch Complex 40\">SLC-40</a>\n",
      "</td>\n",
      "<td><a href=\"/wiki/T%C3%BCrksat_6A\" title=\"Türksat 6A\">Türksat 6A</a><sup class=\"reference\" id=\"cite_ref-388\"><a href=\"#cite_note-388\">[380]</a></sup>\n",
      "</td>\n",
      "<td><a href=\"/wiki/Geostationary_transfer_orbit\" title=\"Geostationary transfer orbit\">GTO</a>\n",
      "</td>\n",
      "<td><a href=\"/wiki/T%C3%BCrksat_(company)\" title=\"Türksat (company)\">Türksat</a>\n",
      "</td></tr>\n",
      "<tr>\n",
      "<td colspan=\"5\">First domestically produced Turkish communications satellite.\n",
      "</td></tr>\n",
      "<tr>\n",
      "<td rowspan=\"2\">8 July 2024\n",
      "</td>\n",
      "<td><a href=\"/wiki/Falcon_9_Block_5\" title=\"Falcon 9 Block 5\">F9 B5</a>\n",
      "</td>\n",
      "<td><a href=\"/wiki/Vandenberg_Space_Force_Base\" title=\"Vandenberg Space Force Base\">VSFB</a>,<br/> <a class=\"mw-redirect\" href=\"/wiki/SLC-4E\" title=\"SLC-4E\">SLC-4E</a>\n",
      "</td>\n",
      "<td><i><a href=\"/wiki/List_of_spaceflight_launches_in_January%E2%80%93June_2024#SpXTransporter11\" title=\"List of spaceflight launches in January–June 2024\">Transporter-11</a></i>, SmallSat Rideshare<sup class=\"reference\" id=\"cite_ref-spacex-smallsat_307-2\"><a href=\"#cite_note-spacex-smallsat-307\">[299]</a></sup>\n",
      "</td>\n",
      "<td><a href=\"/wiki/Sun-synchronous_orbit\" title=\"Sun-synchronous orbit\">SSO</a>\n",
      "</td>\n",
      "<td>Various\n",
      "</td></tr>\n",
      "<tr>\n",
      "<td colspan=\"5\">Dedicated SmallSat Rideshare mission to sun-synchronous orbit.\n",
      "</td></tr>\n",
      "<tr>\n",
      "<td rowspan=\"2\">12 July 2024<br/>~05:30<sup class=\"reference\" id=\"cite_ref-389\"><a href=\"#cite_note-389\">[381]</a></sup><sup class=\"reference\" id=\"cite_ref-390\"><a href=\"#cite_note-390\">[382]</a></sup>\n",
      "</td>\n",
      "<td><a href=\"/wiki/Falcon_9_Block_5\" title=\"Falcon 9 Block 5\">F9 B5</a>♺<br/><a href=\"/wiki/List_of_Falcon_9_first-stage_boosters#B1083\" title=\"List of Falcon 9 first-stage boosters\">B1083.4</a>\n",
      "</td>\n",
      "<td><a href=\"/wiki/Cape_Canaveral_Space_Force_Station\" title=\"Cape Canaveral Space Force Station\">CCSFS</a>,<br/><a href=\"/wiki/Cape_Canaveral_Space_Launch_Complex_40\" title=\"Cape Canaveral Space Launch Complex 40\">SLC-40</a>\n",
      "</td>\n",
      "<td><a href=\"/wiki/Polaris_Dawn\" title=\"Polaris Dawn\">Polaris Dawn</a><sup class=\"reference\" id=\"cite_ref-391\"><a href=\"#cite_note-391\">[383]</a></sup><br/>(<a href=\"/wiki/Crew_Dragon_Resilience\" title=\"Crew Dragon Resilience\">Crew Dragon C207.3 <i>Resilience</i></a> ♺ )\n",
      "</td>\n",
      "<td><a href=\"/wiki/Low_Earth_orbit\" title=\"Low Earth orbit\">LEO</a>\n",
      "</td>\n",
      "<td><a href=\"/wiki/Jared_Isaacman\" title=\"Jared Isaacman\">Jared Isaacman</a> / <a href=\"/wiki/Polaris_program\" title=\"Polaris program\">Polaris Program</a>\n",
      "</td></tr>\n",
      "<tr>\n",
      "<td colspan=\"5\">First of two <a href=\"/wiki/SpaceX_Dragon_2\" title=\"SpaceX Dragon 2\">Crew Dragon</a> missions for the Polaris Program. Crew will consist of <a href=\"/wiki/Jared_Isaacman\" title=\"Jared Isaacman\">Jared Isaacman</a>, <a href=\"/wiki/Scott_Poteet\" title=\"Scott Poteet\">Scott Poteet</a>, <a href=\"/wiki/Sarah_Gillis\" title=\"Sarah Gillis\">Sarah Gillis</a> and <a href=\"/wiki/Anna_Menon\" title=\"Anna Menon\">Anna Menon</a> and will spend up to five days in orbit. Flying higher than any crewed Earth orbiting spacecraft has ever flown, Polaris Dawn will conduct research with the aim of better understanding the effects of spaceflight and space radiation on human health. At approximately 500 kilometers above the Earth, the crew will attempt the first-ever commercial extravehicular activity (EVA) with SpaceX-designed EVA spacesuits, derived from the existing intravehicular (IVA) suit. According to the FCC, the launch will be from SLC-40 for the first time receiving a Crewed mission, with launch backup on LC-39A in case SpaceX abandons the plan.\n",
      "</td></tr>\n",
      "<tr>\n",
      "<td rowspan=\"2\">15 July 2024<sup class=\"reference\" id=\"cite_ref-shephard14224_392-0\"><a href=\"#cite_note-shephard14224-392\">[384]</a></sup>\n",
      "</td>\n",
      "<td><a href=\"/wiki/Falcon_9_Block_5\" title=\"Falcon 9 Block 5\">F9 B5</a> ♺<sup class=\"reference\" id=\"cite_ref-worldviewlegion_341-2\"><a href=\"#cite_note-worldviewlegion-341\">[333]</a></sup><sup class=\"reference\" id=\"cite_ref-WorldView-Legion_1,_...,_6_393-0\"><a href=\"#cite_note-WorldView-Legion_1,_...,_6-393\">[385]</a></sup>\n",
      "</td>\n",
      "<td><a href=\"/wiki/Cape_Canaveral_Space_Force_Station\" title=\"Cape Canaveral Space Force Station\">CCSFS</a>,<br/><a href=\"/wiki/Cape_Canaveral_Space_Launch_Complex_40\" title=\"Cape Canaveral Space Launch Complex 40\">SLC-40</a><sup class=\"reference\" id=\"cite_ref-sfn_ls_367-1\"><a href=\"#cite_note-sfn_ls-367\">[359]</a></sup>\n",
      "</td>\n",
      "<td><a href=\"/wiki/DigitalGlobe#WorldView_Legion\" title=\"DigitalGlobe\">WorldView Legion 3–4</a> Mission 2 (2 sats)<sup class=\"reference\" id=\"cite_ref-spacenews.com_394-0\"><a href=\"#cite_note-spacenews.com-394\">[386]</a></sup><sup class=\"reference\" id=\"cite_ref-SN240423_395-0\"><a href=\"#cite_note-SN240423-395\">[387]</a></sup><sup class=\"reference\" id=\"cite_ref-worldviewLegion10QSept22_396-0\"><a href=\"#cite_note-worldviewLegion10QSept22-396\">[388]</a></sup>\n",
      "</td>\n",
      "<td><a href=\"/wiki/Sun-synchronous_orbit\" title=\"Sun-synchronous orbit\">SSO</a>\n",
      "</td>\n",
      "<td><a href=\"/wiki/Maxar_Technologies\" title=\"Maxar Technologies\">Maxar Technologies</a>\n",
      "</td></tr>\n",
      "<tr>\n",
      "<td colspan=\"5\"><a href=\"/wiki/Maxar_Technologies\" title=\"Maxar Technologies\">Maxar Technologies</a> built satellites.\n",
      "</td></tr>\n",
      "<tr>\n",
      "<td rowspan=\"2\">Mid July 2024<sup class=\"reference\" id=\"cite_ref-397\"><a href=\"#cite_note-397\">[389]</a></sup><sup class=\"reference\" id=\"cite_ref-398\"><a href=\"#cite_note-398\">[390]</a></sup>\n",
      "</td>\n",
      "<td><a href=\"/wiki/Falcon_9_Block_5\" title=\"Falcon 9 Block 5\">F9 B5</a>\n",
      "</td>\n",
      "<td><a href=\"/wiki/Vandenberg_Space_Force_Base\" title=\"Vandenberg Space Force Base\">VSFB</a>,<br/><a href=\"/wiki/Vandenberg_Space_Launch_Complex_4\" title=\"Vandenberg Space Launch Complex 4\">SLC-4E</a>\n",
      "</td>\n",
      "<td><a class=\"mw-redirect\" href=\"/wiki/Arctic_Satellite_Broadband_Mission\" title=\"Arctic Satellite Broadband Mission\">ASBM 1</a> (<a class=\"mw-redirect\" href=\"/wiki/Global_Xpress\" title=\"Global Xpress\">GX</a> 10A),<sup class=\"reference\" id=\"cite_ref-399\"><a href=\"#cite_note-399\">[391]</a></sup> <a class=\"mw-redirect\" href=\"/wiki/Arctic_Satellite_Broadband_Mission\" title=\"Arctic Satellite Broadband Mission\">ASBM 2</a> (<a class=\"mw-redirect\" href=\"/wiki/Global_Xpress\" title=\"Global Xpress\">GX</a> 10B)\n",
      "</td>\n",
      "<td><a href=\"/wiki/Highly_elliptical_orbit\" title=\"Highly elliptical orbit\">HEO</a>\n",
      "</td>\n",
      "<td><a href=\"/wiki/Norwegian_Space_Agency\" title=\"Norwegian Space Agency\">Space Norway</a> / <a href=\"/wiki/Inmarsat\" title=\"Inmarsat\">Inmarsat</a>\n",
      "</td></tr>\n",
      "<tr>\n",
      "<td colspan=\"5\"><a href=\"/wiki/Norwegian_Space_Agency\" title=\"Norwegian Space Agency\">Space Norway</a> will launch 2 satellites of the <a class=\"mw-redirect\" href=\"/wiki/Arctic_Satellite_Broadband_Mission\" title=\"Arctic Satellite Broadband Mission\">Arctic Satellite Broadband Mission</a> (ASBM) system into highly elliptical orbits (apogee: 43,509 km (27,035 mi), perigee: 8,089 km (5,026 mi), 63.4° inclination)<sup class=\"reference\" id=\"cite_ref-400\"><a href=\"#cite_note-400\">[392]</a></sup> to provide communication coverage to high latitudes not served by geosynchronous satellites.<sup class=\"reference\" id=\"cite_ref-401\"><a href=\"#cite_note-401\">[393]</a></sup>\n",
      "</td></tr>\n",
      "<tr>\n",
      "<td rowspan=\"2\">July 2024<sup class=\"reference\" id=\"cite_ref-Rainbow_402-0\"><a href=\"#cite_note-Rainbow-402\">[394]</a></sup>\n",
      "</td>\n",
      "<td><a href=\"/wiki/Falcon_9_Block_5\" title=\"Falcon 9 Block 5\">F9 B5</a>\n",
      "</td>\n",
      "<td><a href=\"/wiki/Vandenberg_Space_Force_Base\" title=\"Vandenberg Space Force Base\">VSFB</a> or <a href=\"/wiki/Cape_Canaveral\" title=\"Cape Canaveral\">CC</a>\n",
      "</td>\n",
      "<td>BlueBird Block 1 (5 Satellites)<sup class=\"reference\" id=\"cite_ref-AST_SpaceMobile_delays_commercial_s_403-0\"><a href=\"#cite_note-AST_SpaceMobile_delays_commercial_s-403\">[395]</a></sup>\n",
      "</td>\n",
      "<td><a href=\"/wiki/Low_Earth_orbit\" title=\"Low Earth orbit\">LEO</a>\n",
      "</td>\n",
      "<td><a href=\"/wiki/AST_SpaceMobile\" title=\"AST SpaceMobile\">AST SpaceMobile</a>\n",
      "</td></tr>\n",
      "<tr>\n",
      "<td colspan=\"5\">Cellphone-compatible broadband constellation. Each satellite is to be a similar size and weight to its 1,500-kilogram BlueWalker 3 prototype and have a 64 square meter phased array antenna.\n",
      "</td></tr>\n",
      "<tr>\n",
      "<td rowspan=\"2\">Mid August 2024<sup class=\"reference\" id=\"cite_ref-404\"><a href=\"#cite_note-404\">[396]</a></sup>\n",
      "</td>\n",
      "<td><a href=\"/wiki/Falcon_9_Block_5\" title=\"Falcon 9 Block 5\">F9 B5</a> <br/><a href=\"/wiki/List_of_Falcon_9_first-stage_boosters#B1085\" title=\"List of Falcon 9 first-stage boosters\">B1085.1</a>\n",
      "</td>\n",
      "<td><a href=\"/wiki/Cape_Canaveral\" title=\"Cape Canaveral\">CC</a>,<br/><a href=\"/wiki/Cape_Canaveral_Space_Launch_Complex_40\" title=\"Cape Canaveral Space Launch Complex 40\">SLC-40</a>/<a href=\"/wiki/Kennedy_Space_Center_Launch_Complex_39A\" title=\"Kennedy Space Center Launch Complex 39A\">LC-39A</a>\n",
      "</td>\n",
      "<td><a href=\"/wiki/SpaceX_Crew-9\" title=\"SpaceX Crew-9\">Crew-9</a><sup class=\"reference\" id=\"cite_ref-NASACREW7-9_190-2\"><a href=\"#cite_note-NASACREW7-9-190\">[182]</a></sup>\n",
      "</td>\n",
      "<td><a href=\"/wiki/Low_Earth_orbit\" title=\"Low Earth orbit\">LEO</a> (<a class=\"mw-redirect\" href=\"/wiki/ISS\" title=\"ISS\">ISS</a>)\n",
      "</td>\n",
      "<td><a href=\"/wiki/NASA\" title=\"NASA\">NASA</a> (<a class=\"mw-redirect\" href=\"/wiki/ISS_Crew_Transportation_Services\" title=\"ISS Crew Transportation Services\">CTS</a>)<sup class=\"reference\" id=\"cite_ref-CCD6_86-5\"><a href=\"#cite_note-CCD6-86\">[78]</a></sup>\n",
      "</td></tr>\n",
      "<tr>\n",
      "<td colspan=\"5\">After first six <a class=\"mw-redirect\" href=\"/wiki/Crew_Dragon\" title=\"Crew Dragon\">Crew Dragon</a> launches of NASA <a class=\"mw-redirect\" href=\"/wiki/Commercial_Crew_Development\" title=\"Commercial Crew Development\">USCV</a> award, a further three missions for SpaceX were announced on 3 December 2021. These launches carry up to four astronauts and 100 kg (220 lb) of cargo to the ISS as well as feature a lifeboat function to evacuate astronauts from ISS in case of an emergency.<sup class=\"reference\" id=\"cite_ref-CCD6_86-6\"><a href=\"#cite_note-CCD6-86\">[78]</a></sup>\n",
      "</td></tr>\n",
      "<tr>\n",
      "<td rowspan=\"2\">August 2024\n",
      "</td>\n",
      "<td><a href=\"/wiki/Falcon_9_Block_5\" title=\"Falcon 9 Block 5\">F9 B5</a>\n",
      "</td>\n",
      "<td><a href=\"/wiki/Cape_Canaveral\" title=\"Cape Canaveral\">CC</a>,<br/><a href=\"/wiki/Cape_Canaveral_Space_Launch_Complex_40\" title=\"Cape Canaveral Space Launch Complex 40\">SLC-40</a> / <a href=\"/wiki/Kennedy_Space_Center_Launch_Complex_39A\" title=\"Kennedy Space Center Launch Complex 39A\">LC-39A</a>\n",
      "</td>\n",
      "<td><a href=\"/wiki/Cygnus_NG-21\" title=\"Cygnus NG-21\">CRS NG-21</a> (<a href=\"/wiki/Cygnus_(spacecraft)\" title=\"Cygnus (spacecraft)\">Cygnus (enhanced)</a>)<sup class=\"reference\" id=\"cite_ref-405\"><a href=\"#cite_note-405\">[397]</a></sup>\n",
      "</td>\n",
      "<td><a href=\"/wiki/Low_Earth_orbit\" title=\"Low Earth orbit\">LEO</a> (<a class=\"mw-redirect\" href=\"/wiki/ISS\" title=\"ISS\">ISS</a>)\n",
      "</td>\n",
      "<td><a href=\"/wiki/Northrop_Grumman\" title=\"Northrop Grumman\">Northrop Grumman</a> (<a href=\"/wiki/Commercial_Resupply_Services\" title=\"Commercial Resupply Services\">CRS</a>)\n",
      "</td></tr>\n",
      "<tr>\n",
      "<td colspan=\"5\">Second of three launches Northrop Grumman acquired from SpaceX while a replacement engine is developed for its Antares rocket.\n",
      "</td></tr>\n",
      "<tr>\n",
      "<td rowspan=\"2\">13 September 2024<sup class=\"reference\" id=\"cite_ref-Galileo_406-0\"><a href=\"#cite_note-Galileo-406\">[398]</a></sup>\n",
      "</td>\n",
      "<td><a href=\"/wiki/Falcon_9_Block_5\" title=\"Falcon 9 Block 5\">F9 B5</a>\n",
      "</td>\n",
      "<td>TBD\n",
      "</td>\n",
      "<td>2× <a href=\"/wiki/Galileo_(satellite_navigation)\" title=\"Galileo (satellite navigation)\">Galileo</a>\n",
      "</td>\n",
      "<td><a class=\"mw-redirect\" href=\"/wiki/Medium_Earth_Orbit\" title=\"Medium Earth Orbit\">MEO</a>\n",
      "</td>\n",
      "<td><a href=\"/wiki/European_Space_Agency\" title=\"European Space Agency\">ESA</a>\n",
      "</td></tr>\n",
      "<tr>\n",
      "<td colspan=\"5\">Second launch of Galileo satellites.\n",
      "</td></tr>\n",
      "<tr>\n",
      "<td rowspan=\"2\">September 2024<sup class=\"reference\" id=\"cite_ref-407\"><a href=\"#cite_note-407\">[399]</a></sup>\n",
      "</td>\n",
      "<td><a href=\"/wiki/Falcon_9_Block_5\" title=\"Falcon 9 Block 5\">F9 B5</a>\n",
      "</td>\n",
      "<td><a href=\"/wiki/Cape_Canaveral\" title=\"Cape Canaveral\">CC</a>,<br/><a href=\"/wiki/Cape_Canaveral_Space_Launch_Complex_40\" title=\"Cape Canaveral Space Launch Complex 40\">SLC-40</a> / <a href=\"/wiki/Kennedy_Space_Center_Launch_Complex_39A\" title=\"Kennedy Space Center Launch Complex 39A\">LC-39A</a>\n",
      "</td>\n",
      "<td><a class=\"mw-redirect\" href=\"/wiki/SpaceX_CRS-31\" title=\"SpaceX CRS-31\">SpaceX CRS-31</a><sup class=\"reference\" id=\"cite_ref-March2022CRS2_319-1\"><a href=\"#cite_note-March2022CRS2-319\">[311]</a></sup>\n",
      "</td>\n",
      "<td><a href=\"/wiki/Low_Earth_orbit\" title=\"Low Earth orbit\">LEO</a> (<a class=\"mw-redirect\" href=\"/wiki/ISS\" title=\"ISS\">ISS</a>)\n",
      "</td>\n",
      "<td><a href=\"/wiki/NASA\" title=\"NASA\">NASA</a> (<a href=\"/wiki/Commercial_Resupply_Services\" title=\"Commercial Resupply Services\">CRS</a>)\n",
      "</td></tr>\n",
      "<tr>\n",
      "<td colspan=\"5\">Six additional <a href=\"/wiki/Commercial_Resupply_Services\" title=\"Commercial Resupply Services\">CRS-2</a> missions for Dragon 2 were announced in March 2022, resupplying the ISS until 2026.\n",
      "</td></tr>\n",
      "<tr>\n",
      "<td rowspan=\"2\">September 2024<sup class=\"reference\" id=\"cite_ref-DoD28222_408-0\"><a href=\"#cite_note-DoD28222-408\">[400]</a></sup>\n",
      "</td>\n",
      "<td><a href=\"/wiki/Falcon_9_Block_5\" title=\"Falcon 9 Block 5\">F9 B5</a>\n",
      "</td>\n",
      "<td><a href=\"/wiki/Vandenberg_Space_Force_Base\" title=\"Vandenberg Space Force Base\">VSFB</a>,<br/><a href=\"/wiki/Vandenberg_Space_Launch_Complex_4\" title=\"Vandenberg Space Launch Complex 4\">SLC-4E</a>\n",
      "</td>\n",
      "<td><a href=\"/wiki/Space_Development_Agency#Launches\" title=\"Space Development Agency\">SDA Tranche 1 Tracking layer T1TL-B</a><sup class=\"reference\" id=\"cite_ref-SSCA12_409-0\"><a href=\"#cite_note-SSCA12-409\">[401]</a></sup>\n",
      "</td>\n",
      "<td><a href=\"/wiki/Polar_orbit\" title=\"Polar orbit\">Polar</a> <a href=\"/wiki/Low_Earth_orbit\" title=\"Low Earth orbit\">LEO</a>\n",
      "</td>\n",
      "<td><a href=\"/wiki/Space_Development_Agency\" title=\"Space Development Agency\">SDA</a>\n",
      "</td></tr>\n",
      "<tr>\n",
      "<td colspan=\"5\">Launch part of Phase 2 US Space Force contract awarded in 2022.\n",
      "</td></tr>\n",
      "<tr>\n",
      "<td rowspan=\"2\">Late Q3 / Early Q4 2024<sup class=\"reference\" id=\"cite_ref-410\"><a href=\"#cite_note-410\">[402]</a></sup>\n",
      "</td>\n",
      "<td><a href=\"/wiki/Falcon_9_Block_5\" title=\"Falcon 9 Block 5\">F9 B5</a>\n",
      "</td>\n",
      "<td><a href=\"/wiki/Kennedy_Space_Center\" title=\"Kennedy Space Center\">KSC</a>,<br/><a href=\"/wiki/Kennedy_Space_Center_Launch_Complex_39A\" title=\"Kennedy Space Center Launch Complex 39A\">LC-39A</a>\n",
      "</td>\n",
      "<td><a class=\"mw-redirect\" href=\"/wiki/Blue_Ghost\" title=\"Blue Ghost\">Blue Ghost</a> M1<sup class=\"reference\" id=\"cite_ref-411\"><a href=\"#cite_note-411\">[403]</a></sup><sup class=\"reference\" id=\"cite_ref-412\"><a href=\"#cite_note-412\">[404]</a></sup>\n",
      "</td>\n",
      "<td><a href=\"/wiki/Trans-lunar_injection\" title=\"Trans-lunar injection\">TLI</a>\n",
      "</td>\n",
      "<td><a href=\"/wiki/Firefly_Aerospace\" title=\"Firefly Aerospace\">Firefly Aerospace</a><br/>NASA (<a href=\"/wiki/Commercial_Lunar_Payload_Services\" title=\"Commercial Lunar Payload Services\">CLPS</a>)\n",
      "</td></tr>\n",
      "<tr>\n",
      "<td colspan=\"5\"><a href=\"/wiki/Firefly_Aerospace\" title=\"Firefly Aerospace\">Firefly Aerospace</a> has selected <a href=\"/wiki/SpaceX\" title=\"SpaceX\">SpaceX</a>'s Falcon 9 rocket to deliver the Blue Ghost lunar lander to the lunar surface.<sup class=\"reference\" id=\"cite_ref-413\"><a href=\"#cite_note-413\">[405]</a></sup> Blue Ghost will carry 10 payloads for NASA's <a href=\"/wiki/Commercial_Lunar_Payload_Services\" title=\"Commercial Lunar Payload Services\">Commercial Lunar Payload Services</a> task order 19D mission along with other separately contracted payloads.<sup class=\"reference\" id=\"cite_ref-414\"><a href=\"#cite_note-414\">[406]</a></sup>\n",
      "</td></tr>\n",
      "<tr>\n",
      "<td rowspan=\"2\">8 October 2024<sup class=\"reference\" id=\"cite_ref-sn-20221020_158-1\"><a href=\"#cite_note-sn-20221020-158\">[150]</a></sup>\n",
      "</td>\n",
      "<td><a href=\"/wiki/Falcon_9_Block_5\" title=\"Falcon 9 Block 5\">F9 B5</a>\n",
      "</td>\n",
      "<td><a href=\"/wiki/Cape_Canaveral_Space_Force_Station\" title=\"Cape Canaveral Space Force Station\">CCSFS</a>, <a href=\"/wiki/Cape_Canaveral_Space_Launch_Complex_40\" title=\"Cape Canaveral Space Launch Complex 40\">SLC-40</a>\n",
      "</td>\n",
      "<td><a href=\"/wiki/Hera_(space_mission)\" title=\"Hera (space mission)\">Hera</a> with Juventas and Milani\n",
      "</td>\n",
      "<td><a href=\"/wiki/Heliocentric_orbit\" title=\"Heliocentric orbit\">Heliocentric</a>\n",
      "</td>\n",
      "<td><a class=\"mw-redirect\" href=\"/wiki/ESA\" title=\"ESA\">ESA</a>\n",
      "</td></tr>\n",
      "<tr>\n",
      "<td colspan=\"5\">Hera is a space mission in development at the <a href=\"/wiki/European_Space_Agency\" title=\"European Space Agency\">European Space Agency</a> in its Space Safety program. Its primary objective is to study the <a href=\"/wiki/65803_Didymos\" title=\"65803 Didymos\">Didymos binary asteroid system</a> that was impacted by <a href=\"/wiki/Double_Asteroid_Redirection_Test\" title=\"Double Asteroid Redirection Test\">DART</a> and contribute to validation of the <a href=\"/wiki/Kinetic_energy\" title=\"Kinetic energy\">kinetic</a> impact method to deviate a <a href=\"/wiki/Near-Earth_object\" title=\"Near-Earth object\">near-Earth asteroid</a> in a colliding trajectory with Earth. It will measure the size and the morphology of the crater created by and momentum transferred by an artificial projectile impacting an asteroid, which will allow measuring the efficiency of the deflection produced by the impact. It will also carry two <a href=\"/wiki/Small_satellite\" title=\"Small satellite\">nano-satellite</a> CubeSats, called <i>Milani</i> and <i>Juventas</i>.\n",
      "</td></tr>\n",
      "<tr>\n",
      "<td rowspan=\"4\">10 October 2024<sup class=\"reference\" id=\"cite_ref-415\"><a href=\"#cite_note-415\">[407]</a></sup>\n",
      "</td>\n",
      "<td><a href=\"/wiki/Falcon_Heavy\" title=\"Falcon Heavy\">Falcon Heavy B5</a><br/><a href=\"/wiki/List_of_Falcon_9_first-stage_boosters\" title=\"List of Falcon 9 first-stage boosters\">B1090 (core)</a>\n",
      "</td>\n",
      "<td rowspan=\"3\"><a href=\"/wiki/Kennedy_Space_Center\" title=\"Kennedy Space Center\">KSC</a>,<br/><a href=\"/wiki/Kennedy_Space_Center_Launch_Complex_39A\" title=\"Kennedy Space Center Launch Complex 39A\">LC-39A</a>\n",
      "</td>\n",
      "<td rowspan=\"3\"><a href=\"/wiki/Europa_Clipper\" title=\"Europa Clipper\">Europa Clipper</a>\n",
      "</td>\n",
      "<td rowspan=\"3\"><a href=\"/wiki/Heliocentric_orbit\" title=\"Heliocentric orbit\">Heliocentric</a>\n",
      "</td>\n",
      "<td rowspan=\"3\"><a href=\"/wiki/NASA\" title=\"NASA\">NASA</a>\n",
      "</td></tr>\n",
      "<tr>\n",
      "<td><a href=\"/wiki/List_of_Falcon_9_first-stage_boosters#B1064\" title=\"List of Falcon 9 first-stage boosters\">B1064.6 ♺ (side)</a><sup class=\"reference\" id=\"cite_ref-arstechpsyche20230829_416-0\"><a href=\"#cite_note-arstechpsyche20230829-416\">[408]</a></sup>\n",
      "</td></tr>\n",
      "<tr>\n",
      "<td><a href=\"/wiki/List_of_Falcon_9_first-stage_boosters#B1065\" title=\"List of Falcon 9 first-stage boosters\">B1065.6 ♺ (side)</a><sup class=\"reference\" id=\"cite_ref-arstechpsyche20230829_416-1\"><a href=\"#cite_note-arstechpsyche20230829-416\">[408]</a></sup>\n",
      "</td></tr>\n",
      "<tr>\n",
      "<td colspan=\"5\"><a href=\"/wiki/Europa_Clipper\" title=\"Europa Clipper\">Europa Clipper</a> will conduct a detailed survey of <a href=\"/wiki/Europa_(moon)\" title=\"Europa (moon)\">Europa</a> and use a sophisticated suite of science instruments to investigate whether the icy moon has conditions suitable for life. Key mission objectives are to produce high-resolution images of Europa's surface, determine its composition, look for signs of recent or ongoing geological activity, measure the thickness of the moon's icy shell, search for subsurface lakes, and determine the depth and salinity of Europa's ocean.<sup class=\"reference\" id=\"cite_ref-NASA_EC_L_417-0\"><a href=\"#cite_note-NASA_EC_L-417\">[409]</a></sup> The mission will fly past Mars and Earth before arriving at Jupiter in April 2030.<sup class=\"reference\" id=\"cite_ref-418\"><a href=\"#cite_note-418\">[410]</a></sup><sup class=\"reference\" id=\"cite_ref-419\"><a href=\"#cite_note-419\">[411]</a></sup> The side boosters and the center core will all be expended.\n",
      "</td></tr>\n",
      "<tr>\n",
      "<td rowspan=\"2\">October 2024<sup class=\"reference\" id=\"cite_ref-spacex-smallsat_307-3\"><a href=\"#cite_note-spacex-smallsat-307\">[299]</a></sup>\n",
      "</td>\n",
      "<td><a href=\"/wiki/Falcon_9_Block_5\" title=\"Falcon 9 Block 5\">F9 B5</a>\n",
      "</td>\n",
      "<td><a href=\"/wiki/Vandenberg_Space_Force_Base\" title=\"Vandenberg Space Force Base\">VSFB</a> or <a href=\"/wiki/Cape_Canaveral_Space_Force_Station\" title=\"Cape Canaveral Space Force Station\">CC</a>\n",
      "</td>\n",
      "<td><a href=\"/wiki/List_of_spaceflight_launches_in_July%E2%80%93December_2024#SpXTransporter12\" title=\"List of spaceflight launches in July–December 2024\"><i>Transporter-12</i></a>, SmallSat Rideshare\n",
      "</td>\n",
      "<td><a href=\"/wiki/Sun-synchronous_orbit\" title=\"Sun-synchronous orbit\">SSO</a>\n",
      "</td>\n",
      "<td>Various\n",
      "</td></tr>\n",
      "<tr>\n",
      "<td colspan=\"5\">Dedicated SmallSat Rideshare mission to sun-synchronous orbit.\n",
      "</td></tr>\n",
      "<tr>\n",
      "<td rowspan=\"2\">October 2024<sup class=\"reference\" id=\"cite_ref-DoD28222_408-1\"><a href=\"#cite_note-DoD28222-408\">[400]</a></sup>\n",
      "</td>\n",
      "<td><a href=\"/wiki/Falcon_9_Block_5\" title=\"Falcon 9 Block 5\">F9 B5</a>\n",
      "</td>\n",
      "<td><a href=\"/wiki/Vandenberg_Space_Force_Base\" title=\"Vandenberg Space Force Base\">VSFB</a>,<br/><a href=\"/wiki/Vandenberg_Space_Launch_Complex_4\" title=\"Vandenberg Space Launch Complex 4\">SLC-4E</a>\n",
      "</td>\n",
      "<td><a href=\"/wiki/Space_Development_Agency#Launches\" title=\"Space Development Agency\">SDA Tranche 1 Tracking layer T1TL-C</a><sup class=\"reference\" id=\"cite_ref-SSCA12_409-1\"><a href=\"#cite_note-SSCA12-409\">[401]</a></sup>\n",
      "</td>\n",
      "<td><a href=\"/wiki/Polar_orbit\" title=\"Polar orbit\">Polar</a> <a href=\"/wiki/Low_Earth_orbit\" title=\"Low Earth orbit\">LEO</a>\n",
      "</td>\n",
      "<td><a href=\"/wiki/Space_Development_Agency\" title=\"Space Development Agency\">SDA</a>\n",
      "</td></tr>\n",
      "<tr>\n",
      "<td colspan=\"5\">Launch part of Phase 2 US Space Force contract awarded in 2022.\n",
      "</td></tr>\n",
      "<tr>\n",
      "<td rowspan=\"2\">October 2024<sup class=\"reference\" id=\"cite_ref-420\"><a href=\"#cite_note-420\">[412]</a></sup>\n",
      "</td>\n",
      "<td><a href=\"/wiki/Falcon_9_Block_5\" title=\"Falcon 9 Block 5\">F9 B5</a>\n",
      "</td>\n",
      "<td><a href=\"/wiki/Kennedy_Space_Center\" title=\"Kennedy Space Center\">KSC</a>,<br/><a href=\"/wiki/Kennedy_Space_Center_Launch_Complex_39A\" title=\"Kennedy Space Center Launch Complex 39A\">LC-39A</a>\n",
      "</td>\n",
      "<td><a href=\"/wiki/Axiom_Mission_4\" title=\"Axiom Mission 4\">Ax-4</a><sup class=\"reference\" id=\"cite_ref-axiom_133-2\"><a href=\"#cite_note-axiom-133\">[125]</a></sup>\n",
      "</td>\n",
      "<td><a href=\"/wiki/Low_Earth_orbit\" title=\"Low Earth orbit\">LEO</a> (<a class=\"mw-redirect\" href=\"/wiki/ISS\" title=\"ISS\">ISS</a>)\n",
      "</td>\n",
      "<td><a href=\"/wiki/Axiom_Space\" title=\"Axiom Space\">Axiom Space</a>\n",
      "</td></tr>\n",
      "<tr>\n",
      "<td colspan=\"5\">Contract for 3 additional missions was signed in June 2021.\n",
      "</td></tr>\n",
      "<tr>\n",
      "<td rowspan=\"2\">November 2024<sup class=\"reference\" id=\"cite_ref-421\"><a href=\"#cite_note-421\">[413]</a></sup>\n",
      "</td>\n",
      "<td><a href=\"/wiki/Falcon_9_Block_5\" title=\"Falcon 9 Block 5\">F9 B5</a>\n",
      "</td>\n",
      "<td><a href=\"/wiki/Cape_Canaveral\" title=\"Cape Canaveral\">CC</a>,<br/><a href=\"/wiki/Cape_Canaveral_Space_Launch_Complex_40\" title=\"Cape Canaveral Space Launch Complex 40\">SLC-40</a> / <a href=\"/wiki/Kennedy_Space_Center_Launch_Complex_39A\" title=\"Kennedy Space Center Launch Complex 39A\">LC-39A</a>\n",
      "</td>\n",
      "<td><a href=\"/wiki/Spainsat_NG\" title=\"Spainsat NG\">Spainsat-NG I</a><sup class=\"reference\" id=\"cite_ref-hisdesat-20221107_422-0\"><a href=\"#cite_note-hisdesat-20221107-422\">[414]</a></sup>\n",
      "</td>\n",
      "<td><a href=\"/wiki/Geostationary_transfer_orbit\" title=\"Geostationary transfer orbit\">GTO</a>\n",
      "</td>\n",
      "<td><a href=\"/wiki/Hisdesat\" title=\"Hisdesat\">Hisdesat</a>\n",
      "</td></tr>\n",
      "<tr>\n",
      "<td colspan=\"5\">Communications satellite built on the <a href=\"/wiki/Eurostar_(satellite_bus)\" title=\"Eurostar (satellite bus)\">Eurostar-Neo</a> platform, to be utilized by the Spanish government and its allies.<sup class=\"reference\" id=\"cite_ref-:7_423-0\"><a href=\"#cite_note-:7-423\">[415]</a></sup> First of two launches for the Spainsat-NG program.\n",
      "</td></tr>\n",
      "<tr>\n",
      "<td rowspan=\"4\">November 2024<sup class=\"reference\" id=\"cite_ref-424\"><a href=\"#cite_note-424\">[416]</a></sup>\n",
      "</td>\n",
      "<td><a href=\"/wiki/Falcon_Heavy\" title=\"Falcon Heavy\">Falcon Heavy B5</a><br/><a href=\"/wiki/List_of_Falcon_9_first-stage_boosters\" title=\"List of Falcon 9 first-stage boosters\">B10??.1 (core)</a>\n",
      "</td>\n",
      "<td rowspan=\"3\"><a href=\"/wiki/Kennedy_Space_Center\" title=\"Kennedy Space Center\">KSC</a>,<br/><a href=\"/wiki/Kennedy_Space_Center_Launch_Complex_39A\" title=\"Kennedy Space Center Launch Complex 39A\">LC-39A</a>\n",
      "</td>\n",
      "<td rowspan=\"3\"><a class=\"mw-redirect\" href=\"/wiki/Griffin_Mission_1\" title=\"Griffin Mission 1\">Griffin Mission 1</a><sup class=\"reference\" id=\"cite_ref-425\"><a href=\"#cite_note-425\">[417]</a></sup>\n",
      "</td>\n",
      "<td rowspan=\"3\"><a href=\"/wiki/Trans-lunar_injection\" title=\"Trans-lunar injection\">TLI</a>\n",
      "</td>\n",
      "<td rowspan=\"3\"><a class=\"mw-redirect\" href=\"/wiki/Astrobotic\" title=\"Astrobotic\">Astrobotic</a><br/>NASA (<a href=\"/wiki/Artemis_program\" title=\"Artemis program\">Artemis</a>)\n",
      "</td></tr>\n",
      "<tr>\n",
      "<td><a href=\"/wiki/List_of_Falcon_9_first-stage_boosters#B1072\" title=\"List of Falcon 9 first-stage boosters\">B1072.2 (side)</a>\n",
      "</td></tr>\n",
      "<tr>\n",
      "<td><a href=\"/wiki/List_of_Falcon_9_first-stage_boosters#B1086\" title=\"List of Falcon 9 first-stage boosters\">B1086.2 (side)</a>\n",
      "</td></tr>\n",
      "<tr>\n",
      "<td colspan=\"5\">Astrobotic's <a class=\"mw-redirect\" href=\"/wiki/Griffin_(spacecraft)\" title=\"Griffin (spacecraft)\">Griffin lunar lander</a> was expected to deliver NASA's <i><a href=\"/wiki/VIPER_(rover)\" title=\"VIPER (rover)\">VIPER</a></i> spacecraft to the <a href=\"/wiki/Lunar_south_pole\" title=\"Lunar south pole\">lunar south pole</a>, but this is now extremely unlikely.<sup class=\"reference\" id=\"cite_ref-426\"><a href=\"#cite_note-426\">[418]</a></sup> Booster recovery method is unconfirmed, but could possibly feature the first Falcon Heavy center core recovery attempt since <a class=\"mw-redirect\" href=\"/wiki/STP-2\" title=\"STP-2\">STP-2</a>.<sup class=\"reference\" id=\"cite_ref-427\"><a href=\"#cite_note-427\">[419]</a></sup>\n",
      "</td></tr>\n",
      "<tr>\n",
      "<td rowspan=\"2\">November 2024\n",
      "</td>\n",
      "<td><a href=\"/wiki/Falcon_9_Block_5\" title=\"Falcon 9 Block 5\">F9 B5</a>\n",
      "</td>\n",
      "<td><a href=\"/wiki/Vandenberg_Space_Force_Base\" title=\"Vandenberg Space Force Base\">VSFB</a> or <a href=\"/wiki/Cape_Canaveral\" title=\"Cape Canaveral\">CC</a>\n",
      "</td>\n",
      "<td><i><a href=\"/wiki/List_of_spaceflight_launches_in_July%E2%80%93December_2024#SpXBandwagon2\" title=\"List of spaceflight launches in July–December 2024\">Bandwagon-2</a></i>, SmallSat Rideshare<sup class=\"reference\" id=\"cite_ref-spacex-smallsat_307-4\"><a href=\"#cite_note-spacex-smallsat-307\">[299]</a></sup><sup class=\"reference\" id=\"cite_ref-BandW_329-1\"><a href=\"#cite_note-BandW-329\">[321]</a></sup>\n",
      "</td>\n",
      "<td><a href=\"/wiki/Low_Earth_orbit\" title=\"Low Earth orbit\">LEO</a>\n",
      "</td>\n",
      "<td>Various\n",
      "</td></tr>\n",
      "<tr>\n",
      "<td colspan=\"5\">Dedicated SmallSat Rideshare mission to 45 degree inclination 550–600 km altitude.\n",
      "</td></tr>\n",
      "<tr>\n",
      "<td rowspan=\"2\">November 2024<sup class=\"reference\" id=\"cite_ref-DoD28222_408-2\"><a href=\"#cite_note-DoD28222-408\">[400]</a></sup>\n",
      "</td>\n",
      "<td><a href=\"/wiki/Falcon_9_Block_5\" title=\"Falcon 9 Block 5\">F9 B5</a>\n",
      "</td>\n",
      "<td><a href=\"/wiki/Vandenberg_Space_Force_Base\" title=\"Vandenberg Space Force Base\">VSFB</a>,<br/><a href=\"/wiki/Vandenberg_Space_Launch_Complex_4\" title=\"Vandenberg Space Launch Complex 4\">SLC-4E</a>\n",
      "</td>\n",
      "<td><a href=\"/wiki/Space_Development_Agency#Launches\" title=\"Space Development Agency\">SDA Tranche 1 Tracking layer T1TL-D</a><sup class=\"reference\" id=\"cite_ref-SSCA12_409-2\"><a href=\"#cite_note-SSCA12-409\">[401]</a></sup>\n",
      "</td>\n",
      "<td><a href=\"/wiki/Polar_orbit\" title=\"Polar orbit\">Polar</a> <a href=\"/wiki/Low_Earth_orbit\" title=\"Low Earth orbit\">LEO</a>\n",
      "</td>\n",
      "<td><a href=\"/wiki/Space_Development_Agency\" title=\"Space Development Agency\">SDA</a>\n",
      "</td></tr>\n",
      "<tr>\n",
      "<td colspan=\"5\">Launch part of Phase 2 US Space Force contract awarded in 2022.\n",
      "</td></tr>\n",
      "<tr>\n",
      "<td rowspan=\"2\">November 2024\n",
      "</td>\n",
      "<td><a href=\"/wiki/Falcon_9_Block_5\" title=\"Falcon 9 Block 5\">F9 B5</a>\n",
      "</td>\n",
      "<td><a href=\"/wiki/Vandenberg_Space_Force_Base\" title=\"Vandenberg Space Force Base\">VSFB</a> or <a href=\"/wiki/Cape_Canaveral\" title=\"Cape Canaveral\">CC</a>\n",
      "</td>\n",
      "<td>425 Project SAR satellite flight 3<sup class=\"reference\" id=\"cite_ref-yonhap8124_428-0\"><a href=\"#cite_note-yonhap8124-428\">[420]</a></sup>\n",
      "</td>\n",
      "<td><a href=\"/wiki/Low_Earth_orbit\" title=\"Low Earth orbit\">LEO</a>?\n",
      "</td>\n",
      "<td><a href=\"/wiki/Republic_of_Korea_Armed_Forces\" title=\"Republic of Korea Armed Forces\">Republic of Korea Armed Forces</a>\n",
      "</td></tr>\n",
      "<tr>\n",
      "<td colspan=\"5\">A military satellite of South Korea with a mass of ~800 kg. Expected to be a part of Bandwagon-2.<sup class=\"reference\" id=\"cite_ref-429\"><a href=\"#cite_note-429\">[421]</a></sup>\n",
      "</td></tr>\n",
      "<tr>\n",
      "<td rowspan=\"2\">December 2024<sup class=\"reference\" id=\"cite_ref-DoD28222_408-3\"><a href=\"#cite_note-DoD28222-408\">[400]</a></sup>\n",
      "</td>\n",
      "<td><a href=\"/wiki/Falcon_9_Block_5\" title=\"Falcon 9 Block 5\">F9 B5</a>\n",
      "</td>\n",
      "<td><a href=\"/wiki/Vandenberg_Space_Force_Base\" title=\"Vandenberg Space Force Base\">VSFB</a>,<br/><a href=\"/wiki/Vandenberg_Space_Launch_Complex_4\" title=\"Vandenberg Space Launch Complex 4\">SLC-4E</a>\n",
      "</td>\n",
      "<td><a href=\"/wiki/Space_Development_Agency#Launches\" title=\"Space Development Agency\">SDA Tranche 1 Tracking layer T1TL-E</a><sup class=\"reference\" id=\"cite_ref-SSCA12_409-3\"><a href=\"#cite_note-SSCA12-409\">[401]</a></sup>\n",
      "</td>\n",
      "<td><a href=\"/wiki/Polar_orbit\" title=\"Polar orbit\">Polar</a> <a href=\"/wiki/Low_Earth_orbit\" title=\"Low Earth orbit\">LEO</a>\n",
      "</td>\n",
      "<td><a href=\"/wiki/Space_Development_Agency\" title=\"Space Development Agency\">SDA</a>\n",
      "</td></tr>\n",
      "<tr>\n",
      "<td colspan=\"5\">Launch part of Phase 2 US Space Force contract awarded in 2022.\n",
      "</td></tr>\n",
      "<tr>\n",
      "<td rowspan=\"2\">Q4 2024<sup class=\"reference\" id=\"cite_ref-DoD28222_408-4\"><a href=\"#cite_note-DoD28222-408\">[400]</a></sup>\n",
      "</td>\n",
      "<td><a href=\"/wiki/Falcon_9_Block_5\" title=\"Falcon 9 Block 5\">F9 B5</a>\n",
      "</td>\n",
      "<td><a href=\"/wiki/Vandenberg_Space_Force_Base\" title=\"Vandenberg Space Force Base\">VSFB</a>,<br/><a href=\"/wiki/Vandenberg_Space_Launch_Complex_4\" title=\"Vandenberg Space Launch Complex 4\">SLC-4E</a>\n",
      "</td>\n",
      "<td><a href=\"/wiki/Space_Development_Agency#Launches\" title=\"Space Development Agency\">SDA Tranche 1 Transport layer T1TR-C</a><sup class=\"reference\" id=\"cite_ref-SSCA12_409-4\"><a href=\"#cite_note-SSCA12-409\">[401]</a></sup>\n",
      "</td>\n",
      "<td><a href=\"/wiki/Polar_orbit\" title=\"Polar orbit\">Polar</a> <a href=\"/wiki/Low_Earth_orbit\" title=\"Low Earth orbit\">LEO</a>\n",
      "</td>\n",
      "<td><a href=\"/wiki/Space_Development_Agency\" title=\"Space Development Agency\">SDA</a>\n",
      "</td></tr>\n",
      "<tr>\n",
      "<td colspan=\"5\">Launch part of Phase 2 US Space Force contract awarded in 2022.\n",
      "</td></tr>\n",
      "<tr>\n",
      "<td rowspan=\"2\">Q4 2024<sup class=\"reference\" id=\"cite_ref-sn-20240213_430-0\"><a href=\"#cite_note-sn-20240213-430\">[422]</a></sup>\n",
      "</td>\n",
      "<td><a href=\"/wiki/Falcon_9_Block_5\" title=\"Falcon 9 Block 5\">F9 B5</a>\n",
      "</td>\n",
      "<td><a href=\"/wiki/Kennedy_Space_Center\" title=\"Kennedy Space Center\">KSC</a>,<br/><a href=\"/wiki/Kennedy_Space_Center_Launch_Complex_39A\" title=\"Kennedy Space Center Launch Complex 39A\">LC-39A</a><sup class=\"reference\" id=\"cite_ref-431\"><a href=\"#cite_note-431\">[423]</a></sup>\n",
      "</td>\n",
      "<td><a href=\"/wiki/IM-2\" title=\"IM-2\">IM-2</a> <i><a class=\"mw-redirect\" href=\"/wiki/Nova-C\" title=\"Nova-C\">Nova-C</a></i> lunar lander<br/><a href=\"/wiki/SHERPA_(space_tug)\" title=\"SHERPA (space tug)\">Sherpa-ES</a>\n",
      "</td>\n",
      "<td><a href=\"/wiki/Trans-lunar_injection\" title=\"Trans-lunar injection\">TLI</a>\n",
      "</td>\n",
      "<td><a href=\"/wiki/NASA\" title=\"NASA\">NASA</a> (<a href=\"/wiki/Commercial_Lunar_Payload_Services\" title=\"Commercial Lunar Payload Services\">CLPS</a>)<br/><a href=\"/wiki/Intuitive_Machines\" title=\"Intuitive Machines\">Intuitive Machines</a><br/><a href=\"/wiki/Spaceflight,_Inc.\" title=\"Spaceflight, Inc.\">Spaceflight, Inc.</a>\n",
      "</td></tr>\n",
      "<tr>\n",
      "<td colspan=\"5\">Intuitive Machines is sending its second lander aboard a SpaceX Falcon 9, with a projected launch time frame in late 2024. In February 2024, Intuitive Machines has completed its first lander mission via SpaceX, which is also hosting payloads for other private companies seeking to make lunar landfall under NASA's Commercial Lunar Payload Services program. NASA's <a href=\"/wiki/PRIME-1\" title=\"PRIME-1\">PRIME-1</a> is expected to be included.<sup class=\"reference\" id=\"cite_ref-432\"><a href=\"#cite_note-432\">[424]</a></sup> The Sherpa-ES <i>Go Beyond</i> orbital transfer vehicle will deploy rideshare payloads to trans-lunar orbit, low-lunar orbit and beyond to GEO.<sup class=\"reference\" id=\"cite_ref-433\"><a href=\"#cite_note-433\">[425]</a></sup><sup class=\"reference\" id=\"cite_ref-434\"><a href=\"#cite_note-434\">[426]</a></sup><sup class=\"reference\" id=\"cite_ref-435\"><a href=\"#cite_note-435\">[427]</a></sup> NASA's <a href=\"/wiki/Lunar_Trailblazer\" title=\"Lunar Trailblazer\">Lunar Trailblazer</a> mission will fly as a secondary payload on this mission.<sup class=\"reference\" id=\"cite_ref-436\"><a href=\"#cite_note-436\">[428]</a></sup>\n",
      "</td></tr>\n",
      "<tr>\n",
      "<td rowspan=\"2\">Q4 2024<sup class=\"reference\" id=\"cite_ref-437\"><a href=\"#cite_note-437\">[429]</a></sup>\n",
      "</td>\n",
      "<td><a href=\"/wiki/Falcon_9_Block_5\" title=\"Falcon 9 Block 5\">F9 B5</a>\n",
      "</td>\n",
      "<td><a href=\"/wiki/Cape_Canaveral\" title=\"Cape Canaveral\">CC</a>,<br/><a href=\"/wiki/Cape_Canaveral_Space_Launch_Complex_40\" title=\"Cape Canaveral Space Launch Complex 40\">SLC-40</a>/<a href=\"/wiki/Kennedy_Space_Center_Launch_Complex_39A\" title=\"Kennedy Space Center Launch Complex 39A\">LC-39A</a>\n",
      "</td>\n",
      "<td><a href=\"/wiki/Koreasat\" title=\"Koreasat\">Koreasat</a> 6A<sup class=\"reference\" id=\"cite_ref-438\"><a href=\"#cite_note-438\">[430]</a></sup>\n",
      "</td>\n",
      "<td><a href=\"/wiki/Geostationary_transfer_orbit\" title=\"Geostationary transfer orbit\">GTO</a>\n",
      "</td>\n",
      "<td><a href=\"/wiki/KT_Corporation\" title=\"KT Corporation\">KT Sat</a>\n",
      "</td></tr>\n",
      "<tr>\n",
      "<td colspan=\"5\">South Korean communications satellite built on the <a href=\"/wiki/Spacebus\" title=\"Spacebus\">Spacebus-4000B2</a> platform. To be positioned at 116° East.<sup class=\"reference\" id=\"cite_ref-439\"><a href=\"#cite_note-439\">[431]</a></sup>\n",
      "</td></tr>\n",
      "<tr>\n",
      "<td rowspan=\"2\">H2 2024<sup class=\"reference\" id=\"cite_ref-nextSFupcoming_369-9\"><a href=\"#cite_note-nextSFupcoming-369\">[361]</a></sup><sup class=\"reference\" id=\"cite_ref-SFPR9321_381-1\"><a href=\"#cite_note-SFPR9321-381\">[373]</a></sup>\n",
      "</td>\n",
      "<td><a href=\"/wiki/Falcon_9_Block_5\" title=\"Falcon 9 Block 5\">F9 B5</a><sup class=\"reference\" id=\"cite_ref-ussf36config_382-1\"><a href=\"#cite_note-ussf36config-382\">[374]</a></sup>\n",
      "</td>\n",
      "<td><a href=\"/wiki/Cape_Canaveral\" title=\"Cape Canaveral\">CC</a>,<br/><a href=\"/wiki/Cape_Canaveral_Space_Launch_Complex_40\" title=\"Cape Canaveral Space Launch Complex 40\">SLC-40</a>/<a href=\"/wiki/Kennedy_Space_Center_Launch_Complex_39A\" title=\"Kennedy Space Center Launch Complex 39A\">LC-39A</a><sup class=\"reference\" id=\"cite_ref-ussf36location_440-0\"><a href=\"#cite_note-ussf36location-440\">[432]</a></sup>\n",
      "</td>\n",
      "<td>USSF-36\n",
      "</td>\n",
      "<td class=\"skin-invert no table-no2\" data-sort-value=\"\" style=\"background: #DDF; color:black; vertical-align: middle; text-align: center;\"><abbr title=\"To be announced\">TBA</abbr>\n",
      "</td>\n",
      "<td><a href=\"/wiki/United_States_Space_Force\" title=\"United States Space Force\">USSF</a>\n",
      "</td></tr>\n",
      "<tr>\n",
      "<td colspan=\"5\">Launch part of Phase 2 US Space Force contract awarded in 2021.<sup class=\"reference\" id=\"cite_ref-defense.gov_383-1\"><a href=\"#cite_note-defense.gov-383\">[375]</a></sup>\n",
      "</td></tr>\n",
      "<tr>\n",
      "<td rowspan=\"2\">H2 2024<sup class=\"reference\" id=\"cite_ref-O3b_Nov23_441-0\"><a href=\"#cite_note-O3b_Nov23-441\">[433]</a></sup>\n",
      "</td>\n",
      "<td><a href=\"/wiki/Falcon_9_Block_5\" title=\"Falcon 9 Block 5\">F9 B5</a>\n",
      "</td>\n",
      "<td><a href=\"/wiki/Cape_Canaveral\" title=\"Cape Canaveral\">CC</a>,<br/><a href=\"/wiki/Cape_Canaveral_Space_Launch_Complex_40\" title=\"Cape Canaveral Space Launch Complex 40\">SLC-40</a>/<a href=\"/wiki/Kennedy_Space_Center_Launch_Complex_39A\" title=\"Kennedy Space Center Launch Complex 39A\">LC-39A</a>\n",
      "</td>\n",
      "<td><a href=\"/wiki/O3b_mPOWER\" title=\"O3b mPOWER\">O3b mPOWER</a> 7 &amp; 8\n",
      "</td>\n",
      "<td><a href=\"/wiki/Medium_Earth_orbit\" title=\"Medium Earth orbit\">MEO</a>\n",
      "</td>\n",
      "<td><a class=\"mw-redirect\" href=\"/wiki/SES_S.A.\" title=\"SES S.A.\">SES</a>\n",
      "</td></tr>\n",
      "<tr>\n",
      "<td colspan=\"5\">In August 2020, SES expanded the O3b mPOWER contract with two additional launches, raising the number of satellites from 7 to 11 satellites at nearly 2 tons each.<sup class=\"reference\" id=\"cite_ref-442\"><a href=\"#cite_note-442\">[434]</a></sup><sup class=\"reference\" id=\"cite_ref-businesswire.com_443-0\"><a href=\"#cite_note-businesswire.com-443\">[435]</a></sup> In October 2023 the mission was delayed to the second half of 2024 due to electrical issues discovered in the first four satellites of the constellation.<sup class=\"reference\" id=\"cite_ref-O3b_Nov23_441-1\"><a href=\"#cite_note-O3b_Nov23-441\">[433]</a></sup>\n",
      "</td></tr>\n",
      "<tr>\n",
      "<td rowspan=\"2\">H2 2024<sup class=\"reference\" id=\"cite_ref-shephard14224_392-1\"><a href=\"#cite_note-shephard14224-392\">[384]</a></sup>\n",
      "</td>\n",
      "<td><a href=\"/wiki/Falcon_9_Block_5\" title=\"Falcon 9 Block 5\">F9 B5</a> ♺<sup class=\"reference\" id=\"cite_ref-worldviewlegion_341-3\"><a href=\"#cite_note-worldviewlegion-341\">[333]</a></sup><sup class=\"reference\" id=\"cite_ref-WorldView-Legion_1,_...,_6_393-1\"><a href=\"#cite_note-WorldView-Legion_1,_...,_6-393\">[385]</a></sup>\n",
      "</td>\n",
      "<td><a href=\"/wiki/Cape_Canaveral\" title=\"Cape Canaveral\">CC</a>,<br/><a href=\"/wiki/Cape_Canaveral_Space_Launch_Complex_40\" title=\"Cape Canaveral Space Launch Complex 40\">SLC-40</a>/<a href=\"/wiki/Kennedy_Space_Center_Launch_Complex_39A\" title=\"Kennedy Space Center Launch Complex 39A\">LC-39A</a><sup class=\"reference\" id=\"cite_ref-nextSFupcoming_369-10\"><a href=\"#cite_note-nextSFupcoming-369\">[361]</a></sup>\n",
      "</td>\n",
      "<td><a href=\"/wiki/DigitalGlobe#WorldView_Legion\" title=\"DigitalGlobe\">WorldView Legion 5 &amp; 6</a> Mission 3 (2 sats)<sup class=\"reference\" id=\"cite_ref-spacenews.com_394-1\"><a href=\"#cite_note-spacenews.com-394\">[386]</a></sup><sup class=\"reference\" id=\"cite_ref-SN240423_395-1\"><a href=\"#cite_note-SN240423-395\">[387]</a></sup><sup class=\"reference\" id=\"cite_ref-worldviewLegion10QSept22_396-1\"><a href=\"#cite_note-worldviewLegion10QSept22-396\">[388]</a></sup>\n",
      "</td>\n",
      "<td><a href=\"/wiki/Sun-synchronous_orbit\" title=\"Sun-synchronous orbit\">SSO</a>\n",
      "</td>\n",
      "<td><a href=\"/wiki/Maxar_Technologies\" title=\"Maxar Technologies\">Maxar Technologies</a>\n",
      "</td></tr>\n",
      "<tr>\n",
      "<td colspan=\"5\"><a href=\"/wiki/Maxar_Technologies\" title=\"Maxar Technologies\">Maxar Technologies</a> built satellites.\n",
      "</td></tr>\n",
      "<tr>\n",
      "<td rowspan=\"2\">2024<sup class=\"reference\" id=\"cite_ref-nextSFupcoming_369-11\"><a href=\"#cite_note-nextSFupcoming-369\">[361]</a></sup>\n",
      "</td>\n",
      "<td><a href=\"/wiki/Falcon_9_Block_5\" title=\"Falcon 9 Block 5\">F9 B5</a> ♺\n",
      "</td>\n",
      "<td><a href=\"/wiki/Kennedy_Space_Center\" title=\"Kennedy Space Center\">KSC</a>,<br/><a href=\"/wiki/Kennedy_Space_Center_Launch_Complex_39A\" title=\"Kennedy Space Center Launch Complex 39A\">LC-39A</a>\n",
      "</td>\n",
      "<td><a href=\"/wiki/Doge-1\" title=\"Doge-1\">DOGE-1</a> <span style=\"color:darkgreen\"><abbr title=\"It is not yet clear whether this will fly as a primary payload, a secondary payload or on a dedicated rideshare mission\">Possible rideshare</abbr></span>\n",
      "</td>\n",
      "<td><a href=\"/wiki/Trans-lunar_injection\" title=\"Trans-lunar injection\">TLI</a>\n",
      "</td>\n",
      "<td>Geometric Energy\n",
      "</td></tr>\n",
      "<tr>\n",
      "<td colspan=\"5\">Originally expected to be a secondary rideshare payload on <a href=\"/wiki/IM-1\" title=\"IM-1\">IM-1</a> mission but the 40 kg was later postponed to a later date due to incomplete radio and launch requirements.&gt;<sup class=\"reference\" id=\"cite_ref-444\"><a href=\"#cite_note-444\">[436]</a></sup><sup class=\"noprint Inline-Template noprint Template-Fact\" style=\"white-space:nowrap;\">[<i><a href=\"/wiki/Wikipedia:No_original_research#Primary,_secondary_and_tertiary_sources\" title=\"Wikipedia:No original research\"><span title=\"This claim needs references to reliable secondary sources. (February 2024)\">non-primary source needed</span></a></i>]</sup>\n",
      "</td></tr>\n",
      "<tr>\n",
      "<td rowspan=\"2\">2024<sup class=\"reference\" id=\"cite_ref-ispr25122_445-0\"><a href=\"#cite_note-ispr25122-445\">[437]</a></sup>\n",
      "</td>\n",
      "<td><a href=\"/wiki/Falcon_9_Block_5\" title=\"Falcon 9 Block 5\">F9 B5</a>\n",
      "</td>\n",
      "<td>Unknown\n",
      "</td>\n",
      "<td><a href=\"/wiki/Ispace_(Japanese_company)\" title=\"Ispace (Japanese company)\">ispace</a> 2nd lunar lander<sup class=\"reference\" id=\"cite_ref-446\"><a href=\"#cite_note-446\">[438]</a></sup>\n",
      "</td>\n",
      "<td><a class=\"mw-redirect\" href=\"/wiki/Trans_Lunar_Injection\" title=\"Trans Lunar Injection\">TLI</a>\n",
      "</td>\n",
      "<td><a href=\"/wiki/Ispace_(Japanese_company)\" title=\"Ispace (Japanese company)\">ispace</a>\n",
      "</td></tr>\n",
      "<tr>\n",
      "<td colspan=\"5\">Second lunar lander built by Japanese company <a href=\"/wiki/Ispace_(Japanese_company)\" title=\"Ispace (Japanese company)\">ispace</a>.\n",
      "</td></tr>\n",
      "<tr>\n",
      "<td rowspan=\"2\">2024<sup class=\"reference\" id=\"cite_ref-447\"><a href=\"#cite_note-447\">[439]</a></sup>\n",
      "</td>\n",
      "<td><a href=\"/wiki/Falcon_9_Block_5\" title=\"Falcon 9 Block 5\">F9 B5</a>\n",
      "</td>\n",
      "<td><a href=\"/wiki/Cape_Canaveral\" title=\"Cape Canaveral\">CC</a>,<br/><a href=\"/wiki/Cape_Canaveral_Space_Launch_Complex_40\" title=\"Cape Canaveral Space Launch Complex 40\">SLC-40</a> / <a href=\"/wiki/Kennedy_Space_Center_Launch_Complex_39A\" title=\"Kennedy Space Center Launch Complex 39A\">LC-39A</a>\n",
      "</td>\n",
      "<td><a href=\"/wiki/Thuraya#Satellites\" title=\"Thuraya\">Thuraya 4-NGS</a>\n",
      "</td>\n",
      "<td><a href=\"/wiki/Geostationary_transfer_orbit\" title=\"Geostationary transfer orbit\">GTO</a>\n",
      "</td>\n",
      "<td><a href=\"/wiki/Thuraya\" title=\"Thuraya\">Thuraya</a>\n",
      "</td></tr>\n",
      "<tr>\n",
      "<td colspan=\"5\">Planned replacement for Thuraya 2.<sup class=\"reference\" id=\"cite_ref-448\"><a href=\"#cite_note-448\">[440]</a></sup>\n",
      "</td></tr>\n",
      "<tr>\n",
      "<td rowspan=\"2\">2024\n",
      "</td>\n",
      "<td><a href=\"/wiki/Falcon_9_Block_5\" title=\"Falcon 9 Block 5\">F9 B5</a>\n",
      "</td>\n",
      "<td><a href=\"/wiki/Cape_Canaveral\" title=\"Cape Canaveral\">CC</a>,<br/><a href=\"/wiki/Cape_Canaveral_Space_Launch_Complex_40\" title=\"Cape Canaveral Space Launch Complex 40\">SLC-40</a> / <a href=\"/wiki/Kennedy_Space_Center_Launch_Complex_39A\" title=\"Kennedy Space Center Launch Complex 39A\">LC-39A</a>\n",
      "</td>\n",
      "<td><a class=\"mw-redirect\" href=\"/wiki/Cygnus_NG-22\" title=\"Cygnus NG-22\">CRS NG-22</a> (<a href=\"/wiki/Cygnus_(spacecraft)\" title=\"Cygnus (spacecraft)\">Cygnus (enhanced)</a>)<sup class=\"reference\" id=\"cite_ref-NG_RepAnt_283-1\"><a href=\"#cite_note-NG_RepAnt-283\">[275]</a></sup>\n",
      "</td>\n",
      "<td><a href=\"/wiki/Low_Earth_orbit\" title=\"Low Earth orbit\">LEO</a> (<a class=\"mw-redirect\" href=\"/wiki/ISS\" title=\"ISS\">ISS</a>)\n",
      "</td>\n",
      "<td><a href=\"/wiki/Northrop_Grumman\" title=\"Northrop Grumman\">Northrop Grumman</a> (<a href=\"/wiki/Commercial_Resupply_Services\" title=\"Commercial Resupply Services\">CRS</a>)\n",
      "</td></tr>\n",
      "<tr>\n",
      "<td colspan=\"5\">Third of three launches Northrop Grumman acquired from SpaceX while a replacement engine is developed for its Antares rocket.\n",
      "</td></tr>\n",
      "<tr>\n",
      "<td rowspan=\"2\">2024\n",
      "</td>\n",
      "<td><a href=\"/wiki/Falcon_9_Block_5\" title=\"Falcon 9 Block 5\">F9 B5</a>\n",
      "</td>\n",
      "<td>Unknown\n",
      "</td>\n",
      "<td>Reentry demonstration capsule <span style=\"color:darkgreen\"><abbr title=\"It is not yet clear whether this will fly as a primary payload, a secondary payload or on a dedicated rideshare mission\">Possible rideshare</abbr></span>\n",
      "</td>\n",
      "<td><a href=\"/wiki/Low_Earth_orbit\" title=\"Low Earth orbit\">LEO</a>\n",
      "</td>\n",
      "<td><a href=\"/wiki/The_Exploration_Company\" title=\"The Exploration Company\">The Exploration Company</a>\n",
      "</td></tr>\n",
      "<tr>\n",
      "<td colspan=\"5\">1600 kg 2.5 metre diameter reduced scale test of a reentry capsule, the full-scale version Nyx (4 metre diameter 8000 kg) is planned to deliver payloads to the ISS and return them back to Earth.<sup class=\"reference\" id=\"cite_ref-449\"><a href=\"#cite_note-449\">[441]</a></sup>\n",
      "</td></tr>\n",
      "<tr>\n",
      "<td rowspan=\"2\">2024?\n",
      "</td>\n",
      "<td><a href=\"/wiki/Falcon_9_Block_5\" title=\"Falcon 9 Block 5\">F9 B5</a>\n",
      "</td>\n",
      "<td><a href=\"/wiki/Cape_Canaveral\" title=\"Cape Canaveral\">CC</a>,<br/><a href=\"/wiki/Cape_Canaveral_Space_Launch_Complex_40\" title=\"Cape Canaveral Space Launch Complex 40\">SLC-40</a>/<a href=\"/wiki/Kennedy_Space_Center_Launch_Complex_39A\" title=\"Kennedy Space Center Launch Complex 39A\">LC-39A</a>\n",
      "</td>\n",
      "<td>USSF-31<sup class=\"reference\" id=\"cite_ref-SSCA12_409-5\"><a href=\"#cite_note-SSCA12-409\">[401]</a></sup>\n",
      "</td>\n",
      "<td class=\"skin-invert no table-no2\" data-sort-value=\"\" style=\"background: #DDF; color:black; vertical-align: middle; text-align: center;\"><abbr title=\"To be announced\">TBA</abbr>\n",
      "</td>\n",
      "<td><a href=\"/wiki/United_States_Space_Force\" title=\"United States Space Force\">USSF</a>\n",
      "</td></tr>\n",
      "<tr>\n",
      "<td colspan=\"5\">Classified mission, part of Phase 2 US Space Force contract awarded in 2022.\n",
      "</td></tr></tbody></table>\n"
     ]
    }
   ],
   "execution_count": 10
  },
  {
   "cell_type": "markdown",
   "metadata": {},
   "source": [
    "You should able to see the columns names embedded in the table header elements `<th>` as follows:\n"
   ]
  },
  {
   "cell_type": "markdown",
   "metadata": {},
   "source": [
    "```\n",
    "<tr>\n",
    "<th scope=\"col\">Flight No.\n",
    "</th>\n",
    "<th scope=\"col\">Date and<br/>time (<a href=\"/wiki/Coordinated_Universal_Time\" title=\"Coordinated Universal Time\">UTC</a>)\n",
    "</th>\n",
    "<th scope=\"col\"><a href=\"/wiki/List_of_Falcon_9_first-stage_boosters\" title=\"List of Falcon 9 first-stage boosters\">Version,<br/>Booster</a> <sup class=\"reference\" id=\"cite_ref-booster_11-0\"><a href=\"#cite_note-booster-11\">[b]</a></sup>\n",
    "</th>\n",
    "<th scope=\"col\">Launch site\n",
    "</th>\n",
    "<th scope=\"col\">Payload<sup class=\"reference\" id=\"cite_ref-Dragon_12-0\"><a href=\"#cite_note-Dragon-12\">[c]</a></sup>\n",
    "</th>\n",
    "<th scope=\"col\">Payload mass\n",
    "</th>\n",
    "<th scope=\"col\">Orbit\n",
    "</th>\n",
    "<th scope=\"col\">Customer\n",
    "</th>\n",
    "<th scope=\"col\">Launch<br/>outcome\n",
    "</th>\n",
    "<th scope=\"col\"><a href=\"/wiki/Falcon_9_first-stage_landing_tests\" title=\"Falcon 9 first-stage landing tests\">Booster<br/>landing</a>\n",
    "</th></tr>\n",
    "```\n"
   ]
  },
  {
   "cell_type": "markdown",
   "metadata": {},
   "source": [
    "Next, we just need to iterate through the `<th>` elements and apply the provided `extract_column_from_header()` to extract column name one by one\n"
   ]
  },
  {
   "cell_type": "code",
   "metadata": {
    "ExecuteTime": {
     "end_time": "2024-06-22T20:59:58.795656Z",
     "start_time": "2024-06-22T20:59:57.405838Z"
    }
   },
   "source": [
    "column_names = []\n",
    "import requests\n",
    "from bs4 import BeautifulSoup\n",
    "\n",
    "# Provided extract_column_from_header function for demonstration\n",
    "def extract_column_from_header(th):\n",
    "    return th.text.strip()\n",
    "\n",
    "# URL of the Falcon 9 and Falcon Heavy Launches Wikipedia page\n",
    "url = \"https://en.wikipedia.org/wiki/List_of_Falcon_9_and_Falcon_Heavy_launches\"\n",
    "\n",
    "# Perform HTTP GET request to fetch the HTML content\n",
    "response = requests.get(url)\n",
    "\n",
    "# Check if the request was successful\n",
    "if response.status_code == 200:\n",
    "    html_content = response.content\n",
    "    print(\"HTML content fetched successfully\")\n",
    "else:\n",
    "    print(f\"Failed to fetch the page. Status code: {response.status_code}\")\n",
    "\n",
    "# Create a BeautifulSoup object from the HTML content\n",
    "soup = BeautifulSoup(html_content, 'html.parser')\n",
    "\n",
    "# Locate all tables in the HTML content\n",
    "html_tables = soup.find_all('table')\n",
    "\n",
    "# Ensure there are at least three tables in the HTML content\n",
    "if len(html_tables) >= 3:\n",
    "    # Select the third table (index 2)\n",
    "    first_launch_table = html_tables[2]\n",
    "    \n",
    "    # Extract column names from the table header\n",
    "    column_names = []\n",
    "    for th in first_launch_table.find_all('th'):\n",
    "        name = extract_column_from_header(th)\n",
    "        if name is not None and len(name) > 0:\n",
    "            column_names.append(name)\n",
    "    \n",
    "    # Print the column names\n",
    "    print(\"Column Names:\", column_names)\n",
    "else:\n",
    "    print(\"There are fewer than three tables on the page.\")\n",
    "\n",
    "# Apply find_all() function with `th` element on first_launch_table\n",
    "# Iterate each th element and apply the provided extract_column_from_header() to get a column name\n",
    "# Append the Non-empty column name (`if name is not None and len(name) > 0`) into a list called column_names\n"
   ],
   "outputs": [
    {
     "name": "stdout",
     "output_type": "stream",
     "text": [
      "HTML content fetched successfully\n",
      "Column Names: ['Date and time (UTC)', 'Version,booster[c]', 'Launch site', 'Payload[d]', 'Orbit', 'Customer']\n"
     ]
    }
   ],
   "execution_count": 11
  },
  {
   "cell_type": "markdown",
   "metadata": {},
   "source": [
    "Check the extracted column names\n"
   ]
  },
  {
   "cell_type": "code",
   "metadata": {
    "ExecuteTime": {
     "end_time": "2024-06-22T20:59:58.810576Z",
     "start_time": "2024-06-22T20:59:58.797612Z"
    }
   },
   "source": [
    "print(column_names)"
   ],
   "outputs": [
    {
     "name": "stdout",
     "output_type": "stream",
     "text": [
      "['Date and time (UTC)', 'Version,booster[c]', 'Launch site', 'Payload[d]', 'Orbit', 'Customer']\n"
     ]
    }
   ],
   "execution_count": 12
  },
  {
   "cell_type": "markdown",
   "metadata": {},
   "source": [
    "## TASK 3: Create a data frame by parsing the launch HTML tables\n"
   ]
  },
  {
   "cell_type": "markdown",
   "metadata": {},
   "source": [
    "We will create an empty dictionary with keys from the extracted column names in the previous task. Later, this dictionary will be converted into a Pandas dataframe\n"
   ]
  },
  {
   "cell_type": "code",
   "metadata": {
    "ExecuteTime": {
     "end_time": "2024-06-22T21:00:00.361721Z",
     "start_time": "2024-06-22T20:59:58.812571Z"
    }
   },
   "source": [
    "import requests\n",
    "from bs4 import BeautifulSoup\n",
    "import pandas as pd\n",
    "\n",
    "# Provided extract_column_from_header function for demonstration\n",
    "def extract_column_from_header(th):\n",
    "    return th.text.strip()\n",
    "\n",
    "# URL of the Falcon 9 and Falcon Heavy Launches Wikipedia page\n",
    "url = \"https://en.wikipedia.org/wiki/List_of_Falcon_9_and_Falcon_Heavy_launches\"\n",
    "\n",
    "# Perform HTTP GET request to fetch the HTML content\n",
    "response = requests.get(url)\n",
    "\n",
    "# Check if the request was successful\n",
    "if response.status_code == 200:\n",
    "    html_content = response.content\n",
    "    print(\"HTML content fetched successfully\")\n",
    "else:\n",
    "    print(f\"Failed to fetch the page. Status code: {response.status_code}\")\n",
    "\n",
    "# Create a BeautifulSoup object from the HTML content\n",
    "soup = BeautifulSoup(html_content, 'html.parser')\n",
    "\n",
    "# Locate all tables in the HTML content\n",
    "html_tables = soup.find_all('table')\n",
    "\n",
    "# Ensure there are at least three tables in the HTML content\n",
    "if len(html_tables) >= 3:\n",
    "    # Select the third table (index 2)\n",
    "    first_launch_table = html_tables[2]\n",
    "    \n",
    "    # Extract column names from the table header\n",
    "    column_names = []\n",
    "    for th in first_launch_table.find_all('th'):\n",
    "        name = extract_column_from_header(th)\n",
    "        if name is not None and len(name) > 0:\n",
    "            column_names.append(name)\n",
    "    \n",
    "    # Print the column names\n",
    "    print(\"Column Names:\", column_names)\n",
    "\n",
    "    # Create and initialize launch_dict\n",
    "    launch_dict = dict.fromkeys(column_names)\n",
    "    \n",
    "    # Remove irrelevant column\n",
    "    if 'Date and time (UTC)' in launch_dict:\n",
    "        del launch_dict['Date and time (UTC)']\n",
    "    \n",
    "    # Initialize each key with an empty list\n",
    "    for key in launch_dict:\n",
    "        launch_dict[key] = []\n",
    "\n",
    "    # Add new columns and initialize them\n",
    "    launch_dict['Version Booster'] = []\n",
    "    launch_dict['Booster landing'] = []\n",
    "    launch_dict['Date'] = []\n",
    "    launch_dict['Time'] = []\n",
    "    \n",
    "    # Print the initialized dictionary keys to verify\n",
    "    print(\"Initialized launch_dict keys:\", launch_dict.keys())\n",
    "else:\n",
    "    print(\"There are fewer than three tables on the page.\")\n"
   ],
   "outputs": [
    {
     "name": "stdout",
     "output_type": "stream",
     "text": [
      "HTML content fetched successfully\n",
      "Column Names: ['Date and time (UTC)', 'Version,booster[c]', 'Launch site', 'Payload[d]', 'Orbit', 'Customer']\n",
      "Initialized launch_dict keys: dict_keys(['Version,booster[c]', 'Launch site', 'Payload[d]', 'Orbit', 'Customer', 'Version Booster', 'Booster landing', 'Date', 'Time'])\n"
     ]
    }
   ],
   "execution_count": 13
  },
  {
   "cell_type": "markdown",
   "metadata": {},
   "source": [
    "Next, we just need to fill up the `launch_dict` with launch records extracted from table rows.\n"
   ]
  },
  {
   "cell_type": "markdown",
   "metadata": {},
   "source": [
    "Usually, HTML tables in Wiki pages are likely to contain unexpected annotations and other types of noises, such as reference links `B0004.1[8]`, missing values `N/A [e]`, inconsistent formatting, etc.\n"
   ]
  },
  {
   "cell_type": "markdown",
   "metadata": {},
   "source": [
    "To simplify the parsing process, we have provided an incomplete code snippet below to help you to fill up the `launch_dict`. Please complete the following code snippet with TODOs or you can choose to write your own logic to parse all launch tables:\n"
   ]
  },
  {
   "cell_type": "code",
   "metadata": {
    "ExecuteTime": {
     "end_time": "2024-06-22T21:00:02.527815Z",
     "start_time": "2024-06-22T21:00:00.363715Z"
    }
   },
   "source": [
    "import requests\n",
    "from bs4 import BeautifulSoup\n",
    "import pandas as pd\n",
    "\n",
    "# Placeholder functions for processing the table data\n",
    "def extract_column_from_header(th):\n",
    "    return th.text.strip()\n",
    "\n",
    "def date_time(cell):\n",
    "    date_time_str = cell.text.strip().split(' ')\n",
    "    return date_time_str if len(date_time_str) == 2 else [date_time_str[0], \"\"]\n",
    "\n",
    "def booster_version(cell):\n",
    "    return cell.text.strip()\n",
    "\n",
    "def get_mass(cell):\n",
    "    mass_text = cell.text.strip().split(' ')[0]\n",
    "    return mass_text if mass_text else \"0\"\n",
    "\n",
    "def landing_status(cell):\n",
    "    return cell.text.strip()\n",
    "\n",
    "# URL of the Falcon 9 and Falcon Heavy Launches Wikipedia page\n",
    "url = \"https://en.wikipedia.org/wiki/List_of_Falcon_9_and_Falcon_Heavy_launches\"\n",
    "\n",
    "# Perform HTTP GET request to fetch the HTML content\n",
    "response = requests.get(url)\n",
    "\n",
    "# Check if the request was successful\n",
    "if response.status_code == 200:\n",
    "    html_content = response.content\n",
    "    print(\"HTML content fetched successfully\")\n",
    "else:\n",
    "    print(f\"Failed to fetch the page. Status code: {response.status_code}\")\n",
    "\n",
    "# Create a BeautifulSoup object from the HTML content\n",
    "soup = BeautifulSoup(html_content, 'html.parser')\n",
    "\n",
    "# Locate all tables in the HTML content\n",
    "html_tables = soup.find_all('table')\n",
    "\n",
    "# Ensure there are at least three tables in the HTML content\n",
    "if len(html_tables) >= 3:\n",
    "    # Select the third table (index 2)\n",
    "    first_launch_table = html_tables[2]\n",
    "    \n",
    "    # Extract column names from the table header\n",
    "    column_names = []\n",
    "    for th in first_launch_table.find_all('th'):\n",
    "        name = extract_column_from_header(th)\n",
    "        if name is not None and len(name) > 0:\n",
    "            column_names.append(name)\n",
    "    \n",
    "    # Print the column names\n",
    "    print(\"Column Names:\", column_names)\n",
    "\n",
    "    # Create and initialize launch_dict\n",
    "    launch_dict = dict.fromkeys(column_names)\n",
    "    \n",
    "    # Remove irrelevant column\n",
    "    if 'Date and time (UTC)' in launch_dict:\n",
    "        del launch_dict['Date and time (UTC)']\n",
    "    \n",
    "    # Initialize each key with an empty list\n",
    "    for key in launch_dict:\n",
    "        launch_dict[key] = []\n",
    "\n",
    "    # Add new columns and initialize them\n",
    "    launch_dict['Version Booster'] = []\n",
    "    launch_dict['Booster landing'] = []\n",
    "    launch_dict['Date'] = []\n",
    "    launch_dict['Time'] = []\n",
    "    \n",
    "    # Print the initialized dictionary keys to verify\n",
    "    print(\"Initialized launch_dict keys:\", launch_dict.keys())\n",
    "    \n",
    "    # Extract and fill the launch records\n",
    "    extracted_row = 0\n",
    "    for table_number, table in enumerate(soup.find_all('table', \"wikitable plainrowheaders collapsible\")):\n",
    "        for rows in table.find_all(\"tr\"):\n",
    "            if rows.th and rows.th.string and rows.th.string.strip().isdigit():\n",
    "                flight_number = rows.th.string.strip()\n",
    "                row = rows.find_all('td')\n",
    "                extracted_row += 1\n",
    "                \n",
    "                # Flight Number\n",
    "                launch_dict['Flight No.'].append(flight_number)\n",
    "                \n",
    "                # Date and Time\n",
    "                datatimelist = date_time(row[0])\n",
    "                date = datatimelist[0].strip(',')\n",
    "                time = datatimelist[1]\n",
    "                launch_dict['Date'].append(date)\n",
    "                launch_dict['Time'].append(time)\n",
    "                \n",
    "                # Booster Version\n",
    "                bv = booster_version(row[1])\n",
    "                if not bv:\n",
    "                    bv = row[1].a.string\n",
    "                launch_dict['Version Booster'].append(bv)\n",
    "                \n",
    "                # Launch Site\n",
    "                launch_site = row[2].a.string\n",
    "                launch_dict['Launch site'].append(launch_site)\n",
    "                \n",
    "                # Payload\n",
    "                payload = row[3].a.string\n",
    "                launch_dict['Payload'].append(payload)\n",
    "                \n",
    "                # Payload Mass\n",
    "                payload_mass = get_mass(row[4])\n",
    "                launch_dict['Payload mass'].append(payload_mass)\n",
    "                \n",
    "                # Orbit\n",
    "                orbit = row[5].a.string\n",
    "                launch_dict['Orbit'].append(orbit)\n",
    "                \n",
    "                # Customer\n",
    "                customer = row[6].a.string\n",
    "                launch_dict['Customer'].append(customer)\n",
    "                \n",
    "                # Launch Outcome\n",
    "                launch_outcome = list(row[7].strings)[0]\n",
    "                launch_dict['Launch outcome'].append(launch_outcome)\n",
    "                \n",
    "                # Booster Landing\n",
    "                booster_landing = landing_status(row[8])\n",
    "                launch_dict['Booster landing'].append(booster_landing)\n",
    "    \n",
    "    # Convert launch_dict to a DataFrame\n",
    "    df = pd.DataFrame(launch_dict)\n",
    "    print(df.head())\n",
    "else:\n",
    "    print(\"There are fewer than three tables on the page.\")\n"
   ],
   "outputs": [
    {
     "name": "stdout",
     "output_type": "stream",
     "text": [
      "HTML content fetched successfully\n",
      "Column Names: ['Date and time (UTC)', 'Version,booster[c]', 'Launch site', 'Payload[d]', 'Orbit', 'Customer']\n",
      "Initialized launch_dict keys: dict_keys(['Version,booster[c]', 'Launch site', 'Payload[d]', 'Orbit', 'Customer', 'Version Booster', 'Booster landing', 'Date', 'Time'])\n"
     ]
    },
    {
     "ename": "KeyError",
     "evalue": "'Flight No.'",
     "output_type": "error",
     "traceback": [
      "\u001B[1;31m---------------------------------------------------------------------------\u001B[0m",
      "\u001B[1;31mKeyError\u001B[0m                                  Traceback (most recent call last)",
      "Cell \u001B[1;32mIn[14], line 87\u001B[0m\n\u001B[0;32m     84\u001B[0m extracted_row \u001B[38;5;241m+\u001B[39m\u001B[38;5;241m=\u001B[39m \u001B[38;5;241m1\u001B[39m\n\u001B[0;32m     86\u001B[0m \u001B[38;5;66;03m# Flight Number\u001B[39;00m\n\u001B[1;32m---> 87\u001B[0m \u001B[43mlaunch_dict\u001B[49m\u001B[43m[\u001B[49m\u001B[38;5;124;43m'\u001B[39;49m\u001B[38;5;124;43mFlight No.\u001B[39;49m\u001B[38;5;124;43m'\u001B[39;49m\u001B[43m]\u001B[49m\u001B[38;5;241m.\u001B[39mappend(flight_number)\n\u001B[0;32m     89\u001B[0m \u001B[38;5;66;03m# Date and Time\u001B[39;00m\n\u001B[0;32m     90\u001B[0m datatimelist \u001B[38;5;241m=\u001B[39m date_time(row[\u001B[38;5;241m0\u001B[39m])\n",
      "\u001B[1;31mKeyError\u001B[0m: 'Flight No.'"
     ]
    }
   ],
   "execution_count": 14
  },
  {
   "cell_type": "markdown",
   "metadata": {},
   "source": [
    "After you have fill in the parsed launch record values into `launch_dict`, you can create a dataframe from it.\n"
   ]
  },
  {
   "cell_type": "code",
   "metadata": {
    "ExecuteTime": {
     "end_time": "2024-06-22T21:00:02.529777Z",
     "start_time": "2024-06-22T21:00:02.529777Z"
    }
   },
   "source": [
    "df= pd.DataFrame({ key:pd.Series(value) for key, value in launch_dict.items() })"
   ],
   "outputs": [],
   "execution_count": null
  },
  {
   "cell_type": "markdown",
   "metadata": {},
   "source": [
    "We can now export it to a <b>CSV</b> for the next section, but to make the answers consistent and in case you have difficulties finishing this lab. \n",
    "\n",
    "Following labs will be using a provided dataset to make each lab independent. \n"
   ]
  },
  {
   "cell_type": "markdown",
   "metadata": {},
   "source": [
    "<code>df.to_csv('spacex_web_scraped.csv', index=False)</code>\n"
   ]
  },
  {
   "cell_type": "markdown",
   "metadata": {},
   "source": [
    "## Authors\n"
   ]
  },
  {
   "cell_type": "markdown",
   "metadata": {},
   "source": [
    "<a href=\"https://www.linkedin.com/in/yan-luo-96288783/\">Yan Luo</a>\n"
   ]
  },
  {
   "cell_type": "markdown",
   "metadata": {},
   "source": [
    "<a href=\"https://www.linkedin.com/in/nayefaboutayoun/\">Nayef Abou Tayoun</a>\n"
   ]
  },
  {
   "cell_type": "markdown",
   "metadata": {},
   "source": [
    "## Change Log\n"
   ]
  },
  {
   "cell_type": "markdown",
   "metadata": {},
   "source": [
    "| Date (YYYY-MM-DD) | Version | Changed By | Change Description      |\n",
    "| ----------------- | ------- | ---------- | ----------------------- |\n",
    "| 2021-06-09        | 1.0     | Yan Luo    | Tasks updates           |\n",
    "| 2020-11-10        | 1.0     | Nayef      | Created the initial version |\n"
   ]
  },
  {
   "cell_type": "markdown",
   "metadata": {},
   "source": [
    "Copyright © 2021 IBM Corporation. All rights reserved.\n"
   ]
  }
 ],
 "metadata": {
  "kernelspec": {
   "display_name": "Python 3 (ipykernel)",
   "language": "python",
   "name": "python3"
  },
  "language_info": {
   "name": ""
  }
 },
 "nbformat": 4,
 "nbformat_minor": 4
}
